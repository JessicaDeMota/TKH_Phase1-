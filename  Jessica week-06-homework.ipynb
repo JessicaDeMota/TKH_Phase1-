{
 "cells": [
  {
   "cell_type": "markdown",
   "metadata": {},
   "source": [
    "<div style=\"background: #000;\n",
    "            color: #FFF;\n",
    "            margin: 0px;\n",
    "                padding: 10px 0px 20px 0px;\n",
    "            text-align: center; \n",
    "                \">\n",
    "    <h1>Week 6 - Homework</h1>\n",
    "</div>\n",
    "\n",
    "<pre style=\"text-align:center;\">\n",
    "Exercise 1 is due Monday 10/26\n",
    "Exercise 2 is due Tuesday 10/27\n",
    "Exercise 3 is due Wednesday 10/28\n",
    "</pre>"
   ]
  },
  {
   "cell_type": "markdown",
   "metadata": {},
   "source": [
    "# Exercise 1\n",
    "\n",
    "Create a class called `Course` and a class called `Student` based on what you think they will need. Create a way to store 20 \"students\" (instances of the `Student` class into an instance of `Course` to represent our Data Science course. \n",
    "\n",
    "Demonstrate that your code works. Message on slack if stuck or need clarification."
   ]
  },
  {
   "cell_type": "code",
   "execution_count": 39,
   "metadata": {
    "scrolled": true
   },
   "outputs": [
    {
     "name": "stdout",
     "output_type": "stream",
     "text": [
      "[Students('Jessica0','De Mota0'), Students('Jessica1','De Mota1'), Students('Jessica2','De Mota2'), Students('Jessica3','De Mota3'), Students('Jessica4','De Mota4'), Students('Jessica5','De Mota5'), Students('Jessica6','De Mota6'), Students('Jessica7','De Mota7'), Students('Jessica8','De Mota8'), Students('Jessica9','De Mota9'), Students('Jessica10','De Mota10'), Students('Jessica11','De Mota11'), Students('Jessica12','De Mota12'), Students('Jessica13','De Mota13'), Students('Jessica14','De Mota14'), Students('Jessica15','De Mota15'), Students('Jessica16','De Mota16'), Students('Jessica17','De Mota17'), Students('Jessica18','De Mota18'), Students('Jessica19','De Mota19')]\n"
     ]
    }
   ],
   "source": [
    "class Students:\n",
    "    def __init__(self,first_name,last_name):\n",
    "        self.first_name = first_name \n",
    "        self.last_name = last_name\n",
    "        \n",
    "    def __repr__(self):\n",
    "        return f\"Students('{self.first_name}','{self.last_name}')\"\n",
    "    def __str__(self):\n",
    "        return f\"< Student instance - first_name:{self.first_name},last_name:{self.last_name}>\"\n",
    "    \n",
    "class Course:\n",
    "     def __init__(self,*students):\n",
    "        self.collection = list(students)\n",
    "        \n",
    "students = [Students(f\"Jessica{x}\", f\"De Mota{x}\") for x in range(20)]\n",
    "\n",
    "            \n",
    "data_science = Course(*students)\n",
    "print(data_science.collection)\n"
   ]
  },
  {
   "cell_type": "markdown",
   "metadata": {},
   "source": [
    "# Exercise 2\n",
    "\n",
    "Create a class called `SafeFloat` that stores an attribute called `num` as an instance attribute set during initialization and sets `num_as_float` based on `num`\n",
    "\n",
    "Include the following three methods:\n",
    "\n",
    "`to_float` - that converts `num` to a float and stores that an attribute `num_as_float`. If `num` cannot be converted, set `num_as_float` to `None`. Do on mutate the original `num`, we'd like to keep it.\n",
    "\n",
    "`check_type` - that returns `True` if `num_as_float` is a float. It should create `num_as_float` if it doesn't exist. \n",
    "\n",
    "and a method that overrides the addition operator so that when instances of `SafeFloat` are added, `num_as_float` is used to add. Return the sum of the two instances or return `None` if the two cannot be added.\n",
    "\n",
    "Demonstrate that this works for strings, ints, bools and floats."
   ]
  },
  {
   "cell_type": "code",
   "execution_count": null,
   "metadata": {},
   "outputs": [],
   "source": [
    "class SafeFloat:\n",
    "    # replace pass with your code\n",
    "    pass\n",
    "\n",
    "# test with ints, floats, bools and strings\n",
    "e = SafeFloat(0)\n",
    "f = SafeFloat(0)\n",
    "print(e.num_as_float)\n",
    "print(f.num_as_float)\n",
    "print(e.check_type())\n",
    "print(f.check_type())\n",
    "print(e + f)"
   ]
  },
  {
   "cell_type": "markdown",
   "metadata": {},
   "source": [
    "# Exercise 3\n",
    "\n",
    "Create a base class `Shape` and two classes that inherits that base class called `Triangle` and `Rectangle`. Consider what those two share in common (height and width) and use that to create your base class `Shape`. Create a method for base class called `area` that returns `None` for the base class. Override that method for `Triangle` and `Rectangle` so instances of those two classes can calculate the correct area.\n",
    "\n",
    "Demonstrate that your code works."
   ]
  },
  {
   "cell_type": "code",
   "execution_count": null,
   "metadata": {},
   "outputs": [],
   "source": []
  }
 ],
 "metadata": {
  "kernelspec": {
   "display_name": "Python 3",
   "language": "python",
   "name": "python3"
  },
  "language_info": {
   "codemirror_mode": {
    "name": "ipython",
    "version": 3
   },
   "file_extension": ".py",
   "mimetype": "text/x-python",
   "name": "python",
   "nbconvert_exporter": "python",
   "pygments_lexer": "ipython3",
   "version": "3.6.10"
  }
 },
 "nbformat": 4,
 "nbformat_minor": 4
}
