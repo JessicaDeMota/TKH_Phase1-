{
 "cells": [
  {
   "cell_type": "markdown",
   "metadata": {},
   "source": [
    "<div style=\"background: #000;\n",
    "            color: #FFF;\n",
    "            margin: 0px;\n",
    "                padding: 10px 0px 20px 0px;\n",
    "            text-align: center; \n",
    "                \">\n",
    "    <h1>Lab</h1>\n",
    "</div>\n"
   ]
  },
  {
   "cell_type": "markdown",
   "metadata": {},
   "source": [
    "# Question 1\n",
    "\n",
    "What is object inheritance? What does it mean for a class instance to inherit another? How can this be useful in our programming?"
   ]
  },
  {
   "cell_type": "markdown",
   "metadata": {},
   "source": [
    "Inheritance is often related to the relationship between a parent and a child relationship of two functions.  However, there are several levels of types of inheritance that we can have. A single inheritance is an example of one child class and one parent. Multiple will have more than one parent class, multilevel, will have a child class that will also have a parent class. We can use code inheritance in order to learn how to re-use code or call a specific section of a function. So a parent function can withold all our information but the child function will allow us to recall it or be able to specifically call specific elements, and grab what we need. Example will be the first name, last name example in class, the first name is the parent function the child function is the full name. "
   ]
  },
  {
   "cell_type": "markdown",
   "metadata": {},
   "source": [
    "# Exercise 1\n",
    "\n",
    "Create a class that uses `@property` with the associated `setter` and `deleter` methods."
   ]
  },
  {
   "cell_type": "code",
   "execution_count": 2,
   "metadata": {},
   "outputs": [
    {
     "data": {
      "text/plain": [
       "'None None'"
      ]
     },
     "execution_count": 2,
     "metadata": {},
     "output_type": "execute_result"
    }
   ],
   "source": [
    "class Personality:\n",
    "    def __init__(self, traits, enviroment, age, ethnicity):\n",
    "        self.traits = traits \n",
    "        self.age = age \n",
    "        self.ethnicity = ethnicity \n",
    "        self.enviroment = enviroment\n",
    "    @property \n",
    "    def characther(self):\n",
    "        return f\"{self.traits} {self.enviroment}\"\n",
    "    \n",
    "    # setter and deleter methods \n",
    "    @characther.setter\n",
    "    def characther(self,characther):\n",
    "        self.traits, self.enviroment = characther.split(' ')\n",
    "    @characther.deleter \n",
    "    def characther(self):\n",
    "        self.traits, self.enviroment = (None, None)\n",
    "    \n",
    "p = Personality('Dependable','Bronx Resident','16','Jamaican')\n",
    "p.characther\n",
    "del p.characther \n",
    "\n",
    "p.characther"
   ]
  },
  {
   "cell_type": "markdown",
   "metadata": {},
   "source": [
    "# Exercise 2\n",
    "\n",
    "Using the following class, overload the `+` operator so when the two instances are added, the salaries are added and the sum is outputted. Also override the `__repr__` method so you can output a string that will create the same exact class (`\"Employee(**insert correct values here**)\"`)"
   ]
  },
  {
   "cell_type": "code",
   "execution_count": 18,
   "metadata": {},
   "outputs": [
    {
     "name": "stdout",
     "output_type": "stream",
     "text": [
      "Employee salary:166000\n",
      "Employee salary:250000\n",
      "416000\n"
     ]
    }
   ],
   "source": [
    "class Employee:\n",
    "    def __init__(self, name, age, salary):\n",
    "        self.name = name\n",
    "        self.age = age\n",
    "        self.salary = salary\n",
    "        \n",
    "         # fix this code:\n",
    "    #def __add__(self):\n",
    "    #    pass\n",
    "    \n",
    "    def __add__ (self,other):\n",
    "        #if isinstance(other,Employee):\n",
    "            return (self.salary + other.salary)\n",
    "     # fix this code:\n",
    "    #def __repr__(self):\n",
    "    #    pass\n",
    "\n",
    "    def __repr__(self):\n",
    "        return f\"Employee salary:{self.salary}\"\n",
    "    \n",
    "empl1 = Employee('Kamala', 55, 166000)\n",
    "empl2 = Employee('Joe', 77, 250000)\n",
    "\n",
    "print(empl1)\n",
    "print(empl2)\n",
    "print(empl1 + empl2)"
   ]
  },
  {
   "cell_type": "markdown",
   "metadata": {},
   "source": [
    "# Exercise 3:\n",
    "\n",
    "Create a class called `Store`, create an attribute called `inventory` that holds the product name as key and an int representing the count/number of that product as the value. \n",
    "\n",
    "Create a method that decrements from the product's count each time a specific product is purchased. Create a least one addtional method to help your class simulate a store (e.g. a method that lists the products for sale could be one). Also consider how you might want to add products to the store via the `__init__` method and later when the instance has already been created.\n",
    "\n",
    "When you're finished, create an instance of `Store` and demonstrate that your methods/code work. Bonus points for addtional methods/functionality."
   ]
  },
  {
   "cell_type": "code",
   "execution_count": 33,
   "metadata": {},
   "outputs": [],
   "source": [
    "class Store:\n",
    "    #inventory that holds the product name as key and an int representing the count/ number \n",
    "    inventory:{\n",
    "        'handbags' :'54',\n",
    "        'basketball shorts' : '256', \n",
    "        'legings' : '67',\n",
    "        'dresses' : '170',\n",
    "    }\n",
    "    count = 547\n",
    "    def __init__(self,handbags = None,basketball_shorts = None,\n",
    "                 legings = None, dresses = None):\n",
    "        self.handbags = handbags \n",
    "        self.basketball_shorts = basketball_shorts \n",
    "        self.legings = legings \n",
    "        self.dresses = dresses\n",
    "        \n",
    "    def __sub__(self,other):\n",
    "        return self.basketball - other.basketball\n",
    "    \n",
    "    def __add__(self,other):\n",
    "        return self.handbags + other.basketball \n",
    "    \n",
    "    def __getitem__(self,key):\n",
    "        return getattr(self,key)\n",
    "\n",
    "my_Store = Store()\n",
    "\n"
   ]
  },
  {
   "cell_type": "markdown",
   "metadata": {},
   "source": [
    "# Exercise 4:\n",
    "\n",
    "Create two classes. One that acts as a parent class and the other that acts as a child class that inherits from the parent. Create a method of the child class that uses attributes from the parent class. Demonstrate your code works by creating an instance of the child class and showing that the method works."
   ]
  },
  {
   "cell_type": "code",
   "execution_count": 29,
   "metadata": {},
   "outputs": [
    {
     "data": {
      "text/plain": [
       "(\"Hello Class, are you ready for today's exam?\", 'I barely studied!')"
      ]
     },
     "execution_count": 29,
     "metadata": {},
     "output_type": "execute_result"
    }
   ],
   "source": [
    "#creates two classes \n",
    "# parent class \n",
    "#child class inherits from the parent \n",
    "# create a method of the child class that\n",
    "# uses atrributes from the parent \n",
    "class Saying:\n",
    "    professor = \"Hello Class, are you ready for today's exam?\"\n",
    "    \n",
    "class Response(Saying):\n",
    "    student = \"I barely studied!\"\n",
    "    \n",
    "s = Saying()\n",
    "r = Response()\n",
    "\n",
    "s.professor,r.student "
   ]
  },
  {
   "cell_type": "code",
   "execution_count": 24,
   "metadata": {
    "scrolled": true
   },
   "outputs": [
    {
     "ename": "ValueError",
     "evalue": "too many values to unpack (expected 2)",
     "output_type": "error",
     "traceback": [
      "\u001b[0;31m---------------------------------------------------------------------------\u001b[0m",
      "\u001b[0;31mValueError\u001b[0m                                Traceback (most recent call last)",
      "\u001b[0;32m<ipython-input-24-969b0263437f>\u001b[0m in \u001b[0;36m<module>\u001b[0;34m\u001b[0m\n\u001b[1;32m      8\u001b[0m         \u001b[0;32mreturn\u001b[0m \u001b[0mcls\u001b[0m\u001b[0;34m(\u001b[0m\u001b[0mProfessor_name\u001b[0m \u001b[0;34m=\u001b[0m \u001b[0mprofessor\u001b[0m\u001b[0;34m,\u001b[0m \u001b[0mProfessor_saying\u001b[0m \u001b[0;34m=\u001b[0m \u001b[0msaying\u001b[0m\u001b[0;34m)\u001b[0m\u001b[0;34m\u001b[0m\u001b[0;34m\u001b[0m\u001b[0m\n\u001b[1;32m      9\u001b[0m \u001b[0;34m\u001b[0m\u001b[0m\n\u001b[0;32m---> 10\u001b[0;31m \u001b[0mx\u001b[0m \u001b[0;34m=\u001b[0m \u001b[0mProfessor\u001b[0m\u001b[0;34m.\u001b[0m\u001b[0mfrom_Student\u001b[0m\u001b[0;34m(\u001b[0m\u001b[0;34m\"Amanda Goodmorning \"\u001b[0m\u001b[0;34m)\u001b[0m\u001b[0;34m\u001b[0m\u001b[0;34m\u001b[0m\u001b[0m\n\u001b[0m\u001b[1;32m     11\u001b[0m \u001b[0my\u001b[0m \u001b[0;34m=\u001b[0m \u001b[0mProfessor\u001b[0m\u001b[0;34m(\u001b[0m\u001b[0mProfessor_name\u001b[0m \u001b[0;34m=\u001b[0m \u001b[0;34m'Amanda'\u001b[0m\u001b[0;34m,\u001b[0m \u001b[0mProfessor_saying\u001b[0m \u001b[0;34m=\u001b[0m \u001b[0;34m'Goodmorning'\u001b[0m\u001b[0;34m)\u001b[0m\u001b[0;34m\u001b[0m\u001b[0;34m\u001b[0m\u001b[0m\n\u001b[1;32m     12\u001b[0m \u001b[0;34m\u001b[0m\u001b[0m\n",
      "\u001b[0;32m<ipython-input-24-969b0263437f>\u001b[0m in \u001b[0;36mfrom_Student\u001b[0;34m(cls, Student)\u001b[0m\n\u001b[1;32m      5\u001b[0m     \u001b[0;34m@\u001b[0m\u001b[0mclassmethod\u001b[0m\u001b[0;34m\u001b[0m\u001b[0;34m\u001b[0m\u001b[0m\n\u001b[1;32m      6\u001b[0m     \u001b[0;32mdef\u001b[0m \u001b[0mfrom_Student\u001b[0m\u001b[0;34m(\u001b[0m\u001b[0mcls\u001b[0m\u001b[0;34m,\u001b[0m\u001b[0mStudent\u001b[0m\u001b[0;34m)\u001b[0m\u001b[0;34m:\u001b[0m\u001b[0;34m\u001b[0m\u001b[0;34m\u001b[0m\u001b[0m\n\u001b[0;32m----> 7\u001b[0;31m         \u001b[0mprofessor\u001b[0m\u001b[0;34m,\u001b[0m \u001b[0msaying\u001b[0m \u001b[0;34m=\u001b[0m \u001b[0mStudent\u001b[0m\u001b[0;34m.\u001b[0m\u001b[0msplit\u001b[0m\u001b[0;34m(\u001b[0m\u001b[0;34m' '\u001b[0m\u001b[0;34m)\u001b[0m\u001b[0;34m\u001b[0m\u001b[0;34m\u001b[0m\u001b[0m\n\u001b[0m\u001b[1;32m      8\u001b[0m         \u001b[0;32mreturn\u001b[0m \u001b[0mcls\u001b[0m\u001b[0;34m(\u001b[0m\u001b[0mProfessor_name\u001b[0m \u001b[0;34m=\u001b[0m \u001b[0mprofessor\u001b[0m\u001b[0;34m,\u001b[0m \u001b[0mProfessor_saying\u001b[0m \u001b[0;34m=\u001b[0m \u001b[0msaying\u001b[0m\u001b[0;34m)\u001b[0m\u001b[0;34m\u001b[0m\u001b[0;34m\u001b[0m\u001b[0m\n\u001b[1;32m      9\u001b[0m \u001b[0;34m\u001b[0m\u001b[0m\n",
      "\u001b[0;31mValueError\u001b[0m: too many values to unpack (expected 2)"
     ]
    }
   ],
   "source": [
    "class Professor:\n",
    "    def __init__(self,Professor_name = None ,Professor_saying = None):\n",
    "        self.Professor_name = professor_name \n",
    "        self. Professor_saying = Professor_saying  \n",
    "    @classmethod \n",
    "    def from_Student(cls,Student):\n",
    "        professor, saying = Student.split(' ')\n",
    "        return cls(Professor_name = professor, Professor_saying = saying)\n",
    "    \n",
    "x = Professor.from_Student(\"Amanda Goodmorning \")\n",
    "y = Professor(Professor_name = 'Amanda', Professor_saying = 'Goodmorning')\n",
    "    \n",
    "print(x.Professor_name)\n",
    "print(x.Professor_saying)\n",
    "        \n",
    "print(y.Professor_name)\n",
    "print(y.Professor_saying)"
   ]
  },
  {
   "cell_type": "code",
   "execution_count": null,
   "metadata": {},
   "outputs": [],
   "source": []
  },
  {
   "cell_type": "code",
   "execution_count": null,
   "metadata": {},
   "outputs": [],
   "source": []
  }
 ],
 "metadata": {
  "kernelspec": {
   "display_name": "Python 3",
   "language": "python",
   "name": "python3"
  },
  "language_info": {
   "codemirror_mode": {
    "name": "ipython",
    "version": 3
   },
   "file_extension": ".py",
   "mimetype": "text/x-python",
   "name": "python",
   "nbconvert_exporter": "python",
   "pygments_lexer": "ipython3",
   "version": "3.6.10"
  }
 },
 "nbformat": 4,
 "nbformat_minor": 4
}
