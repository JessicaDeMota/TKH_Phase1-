{
 "cells": [
  {
   "cell_type": "markdown",
   "metadata": {},
   "source": [
    "# Week 1 HW\n",
    "\n",
    "**Exercise 1 and 3 are due Monday 9/20**  \n",
    "**Exercise 2 and 4 are due Tuesday 9/21**  \n",
    "**Exercise 5 and 6 are due Wednesday 9/22**  "
   ]
  },
  {
   "cell_type": "markdown",
   "metadata": {},
   "source": [
    "# Exercise 1"
   ]
  },
  {
   "cell_type": "markdown",
   "metadata": {},
   "source": [
    "a. Set a variable to a user input. "
   ]
  },
  {
   "cell_type": "code",
   "execution_count": 1,
   "metadata": {},
   "outputs": [
    {
     "name": "stdout",
     "output_type": "stream",
     "text": [
      "Enter a value: 9\n"
     ]
    }
   ],
   "source": [
    "jessica = input(\"Enter a value: \")"
   ]
  },
  {
   "cell_type": "markdown",
   "metadata": {},
   "source": [
    "b. Set two variables in the same statement."
   ]
  },
  {
   "cell_type": "code",
   "execution_count": 29,
   "metadata": {},
   "outputs": [
    {
     "name": "stdout",
     "output_type": "stream",
     "text": [
      "100\n",
      "100\n"
     ]
    }
   ],
   "source": [
    "jessica = glenny = 100 \n",
    "print (jessica)\n",
    "print (glenny)"
   ]
  },
  {
   "cell_type": "markdown",
   "metadata": {},
   "source": [
    "c. Create a variable with a value that when cast as a bool returns True."
   ]
  },
  {
   "cell_type": "code",
   "execution_count": 76,
   "metadata": {},
   "outputs": [
    {
     "data": {
      "text/plain": [
       "True"
      ]
     },
     "execution_count": 76,
     "metadata": {},
     "output_type": "execute_result"
    }
   ],
   "source": [
    "school_work = \"pens, notebooks, pencils\"\n",
    "bool(school_work)"
   ]
  },
  {
   "cell_type": "markdown",
   "metadata": {},
   "source": [
    "d. If we add up all the numbers from 0 to 100, we get 5050. \n",
    "\n",
    "What sum do we get if we add up all the numbers from 0 to 1000?\n",
    "\n",
    "(Show your work)"
   ]
  },
  {
   "cell_type": "code",
   "execution_count": 1,
   "metadata": {},
   "outputs": [
    {
     "data": {
      "text/plain": [
       "500500"
      ]
     },
     "execution_count": 1,
     "metadata": {},
     "output_type": "execute_result"
    }
   ],
   "source": [
    "sum(range(0,1001))"
   ]
  },
  {
   "cell_type": "markdown",
   "metadata": {},
   "source": [
    "# Exercise 2 \n",
    "\n",
    "Convert the following logical statements into python. Print the result for each possible combination (TT, TF, FT, FF)"
   ]
  },
  {
   "cell_type": "markdown",
   "metadata": {},
   "source": [
    "¬(p || q )  "
   ]
  },
  {
   "cell_type": "code",
   "execution_count": 77,
   "metadata": {
    "scrolled": true
   },
   "outputs": [
    {
     "name": "stdout",
     "output_type": "stream",
     "text": [
      "False\n",
      "False\n",
      "False\n",
      "True\n"
     ]
    }
   ],
   "source": [
    "print(not(True or False))\n",
    "print(not(True or True))\n",
    "print(not(False or True))\n",
    "print(not(False or False))"
   ]
  },
  {
   "cell_type": "markdown",
   "metadata": {},
   "source": [
    "( p || q ) ⊕ ( p & q)"
   ]
  },
  {
   "cell_type": "code",
   "execution_count": 78,
   "metadata": {},
   "outputs": [
    {
     "name": "stdout",
     "output_type": "stream",
     "text": [
      "True\n",
      "True\n",
      "True\n",
      "False\n"
     ]
    }
   ],
   "source": [
    "print(True or False) and (True and False)\n",
    "print(True or True) and (True and True)\n",
    "print(False or True) and (False and True)\n",
    "print(False or False) and (False and False)"
   ]
  },
  {
   "cell_type": "markdown",
   "metadata": {},
   "source": [
    "(p & ¬q ) || (¬p & q)"
   ]
  },
  {
   "cell_type": "code",
   "execution_count": 80,
   "metadata": {},
   "outputs": [
    {
     "name": "stdout",
     "output_type": "stream",
     "text": [
      "True\n",
      "False\n",
      "False\n",
      "False\n"
     ]
    },
    {
     "data": {
      "text/plain": [
       "False"
      ]
     },
     "execution_count": 80,
     "metadata": {},
     "output_type": "execute_result"
    }
   ],
   "source": [
    "print(True and not False) or (not True and False)\n",
    "print(True and not True)  or (not True and True)\n",
    "print(False and not True) or (not False and True)\n",
    "print(False and not False)or (not False and False)"
   ]
  },
  {
   "cell_type": "markdown",
   "metadata": {},
   "source": [
    "# Exercise 3"
   ]
  },
  {
   "cell_type": "markdown",
   "metadata": {},
   "source": [
    " a. Create an array of strings that consist of five individual zeros followed by five individual ones. Demonstrate that it's an array, and that this is an array of strings using a built-in python function."
   ]
  },
  {
   "cell_type": "code",
   "execution_count": 71,
   "metadata": {},
   "outputs": [
    {
     "name": "stdout",
     "output_type": "stream",
     "text": [
      "<class 'str'>\n",
      "<class 'str'>\n",
      "<class 'str'>\n",
      "<class 'str'>\n",
      "<class 'str'>\n",
      "<class 'str'>\n",
      "<class 'str'>\n",
      "<class 'str'>\n",
      "<class 'str'>\n",
      "<class 'str'>\n"
     ]
    }
   ],
   "source": [
    "array = (['0', '0', '0', '0', '0', '1', '1', '1', '1', '1'])\n",
    "for item in array:\n",
    "    print(type(item))"
   ]
  },
  {
   "cell_type": "markdown",
   "metadata": {},
   "source": [
    "b. Create an array of integers that consists of the same. Output the number of elements in the array using a built-in python function"
   ]
  },
  {
   "cell_type": "code",
   "execution_count": 70,
   "metadata": {},
   "outputs": [
    {
     "data": {
      "text/plain": [
       "3"
      ]
     },
     "execution_count": 70,
     "metadata": {},
     "output_type": "execute_result"
    }
   ],
   "source": [
    "array = ([int(6.34), int(8.45), int(7.234)])\n",
    "len(array)"
   ]
  },
  {
   "cell_type": "markdown",
   "metadata": {},
   "source": [
    "c. Create an array of floats that consists of the same. Demonstrate that this array is one of floats using a built-in python function."
   ]
  },
  {
   "cell_type": "code",
   "execution_count": 72,
   "metadata": {},
   "outputs": [
    {
     "name": "stdout",
     "output_type": "stream",
     "text": [
      "<class 'float'>\n",
      "<class 'float'>\n",
      "<class 'float'>\n"
     ]
    }
   ],
   "source": [
    "array = [9.672,7.35,9.877]\n",
    "for item in array:\n",
    "        print(type(item))"
   ]
  },
  {
   "cell_type": "markdown",
   "metadata": {},
   "source": [
    "d. Create an array of bools that consists of the same. Demonstrate that this array is one of bools using a built-in python function."
   ]
  },
  {
   "cell_type": "code",
   "execution_count": 74,
   "metadata": {},
   "outputs": [
    {
     "name": "stdout",
     "output_type": "stream",
     "text": [
      "<class 'bool'>\n",
      "<class 'bool'>\n",
      "<class 'bool'>\n"
     ]
    }
   ],
   "source": [
    "array = ([bool(True), bool(5), bool(\"b\")])\n",
    "for item in array:\n",
    "    print(type(item))"
   ]
  },
  {
   "cell_type": "markdown",
   "metadata": {},
   "source": [
    "# Exercise 4\n",
    "\n",
    "Without actually using Python, determine what the following would evaluate\n",
    "to in Python and explain step-by-step how you arrived at this answer:\n",
    "\n",
    "    a. (1 or ((0 or 0) or 1)) or 1\n",
    "    b. ((1 or 0) or 0 or 1) or 1\n",
    "    c. 1 or 0 or 0 or 1 or 1\n",
    "    \n",
    "Change the following cells to markdown and fill your answer in them."
   ]
  },
  {
   "cell_type": "markdown",
   "metadata": {},
   "source": []
  },
  {
   "cell_type": "markdown",
   "metadata": {},
   "source": [
    "a.\n",
    "(True or (False or False) or True) or True \n",
    "(True) or (False or True) or True \n",
    "(True or True) or True \n",
    "(True or True)\n",
    "b.\n",
    "((True or False)or False or True) or True\n",
    "((True)or False or True) or True \n",
    "(True or True ) or True \n",
    "(True or True)\n",
    "c. \n",
    "True or False or False or True or True \n",
    "True or False or True or True \n",
    "True or True or True \n",
    "True or True \n",
    "True \n"
   ]
  },
  {
   "cell_type": "markdown",
   "metadata": {},
   "source": [
    "# Exercise 5\n",
    "\n",
    "To convert Fahrenheit to Celsius, you use the following formula:\n",
    "\n",
    "$$\n",
    "    C^{\\circ} = \\frac{ (F^{\\circ} - 32)}{1.8}\n",
    "$$\n",
    "\n",
    "Given a Fahrenheit input `temperature`, write some python statements to print the temperature in Celsius.\n"
   ]
  },
  {
   "cell_type": "code",
   "execution_count": 11,
   "metadata": {},
   "outputs": [
    {
     "name": "stdout",
     "output_type": "stream",
     "text": [
      "Enter temperature in Fahrenheit: 45\n",
      " This is your temperature as Fahrenheit 45 and this is the temperature as Celsius 7.222222222222222\n"
     ]
    }
   ],
   "source": [
    "temperature = int(input(\"Enter temperature in Fahrenheit: \"))\n",
    "celsius = (temperature - 32)/1.8\n",
    "print(\" This is your temperature as Fahrenheit {} and this is the temperature as Celsius {}\".format(temperature, celsius))"
   ]
  },
  {
   "cell_type": "markdown",
   "metadata": {},
   "source": [
    "# Exercise 6\n",
    "\n",
    "If given a height and a radius, print the volume of a cylinder.\n",
    "\n",
    "$$ \n",
    "    V = \\pi r^2h\n",
    "$$"
   ]
  },
  {
   "cell_type": "code",
   "execution_count": 14,
   "metadata": {},
   "outputs": [
    {
     "name": "stdout",
     "output_type": "stream",
     "text": [
      "Enter a height: 15\n",
      "Enter a radius: 42\n",
      "79380\n"
     ]
    }
   ],
   "source": [
    "height = int(input(\"Enter a height: \"))\n",
    "radius = int(input(\"Enter a radius: \"))\n",
    "pi = int(22/7)\n",
    "volume = pi * radius**2 * height\n",
    "print (volume)"
   ]
  }
 ],
 "metadata": {
  "kernelspec": {
   "display_name": "Python 3",
   "language": "python",
   "name": "python3"
  },
  "language_info": {
   "codemirror_mode": {
    "name": "ipython",
    "version": 3
   },
   "file_extension": ".py",
   "mimetype": "text/x-python",
   "name": "python",
   "nbconvert_exporter": "python",
   "pygments_lexer": "ipython3",
   "version": "3.6.10"
  }
 },
 "nbformat": 4,
 "nbformat_minor": 4
}
