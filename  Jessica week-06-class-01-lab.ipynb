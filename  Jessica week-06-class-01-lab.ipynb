{
 "cells": [
  {
   "cell_type": "markdown",
   "metadata": {},
   "source": [
    "<div style=\"background: #000;\n",
    "            color: #FFF;\n",
    "            margin: 0px;\n",
    "                padding: 10px 0px 20px 0px;\n",
    "            text-align: center; \n",
    "                \">\n",
    "    <h1>Week 6 - Class 1 - Lab</h1>\n",
    "</div>\n"
   ]
  },
  {
   "cell_type": "markdown",
   "metadata": {},
   "source": [
    "# Question 1\n",
    "\n",
    "What is a class? What is an object? What is the difference? How can we use objects in python?"
   ]
  },
  {
   "cell_type": "markdown",
   "metadata": {},
   "source": [
    "Classes contain objects, and attributes. We can think of a class as something that contains and organizes everything under one roof and we can create instances of this class, to make this callable. The difference between an object and a class, is an object contains data or attributes that can be mofified. Classes however can be public or private and can be created for anything. \n",
    "They just need to have attributes inside. We can use objects in python,as several instances that can be used with several variations that depend on the class. Example, if we have a class name circle, an object can be area, volume, all attributes that can compose. These are states and behaviors of a class. "
   ]
  },
  {
   "cell_type": "markdown",
   "metadata": {},
   "source": [
    "# Execise 1\n",
    "\n",
    "Create a class. Show that the class can be used to create an object."
   ]
  },
  {
   "cell_type": "code",
   "execution_count": 6,
   "metadata": {},
   "outputs": [
    {
     "data": {
      "text/plain": [
       "23212"
      ]
     },
     "execution_count": 6,
     "metadata": {},
     "output_type": "execute_result"
    }
   ],
   "source": [
    "class run:\n",
    "    skipping = 23212\n",
    "    def f(ran):\n",
    "        return 'the numbers are running around'\n",
    "\n",
    "activity = run()\n",
    "activity.skipping"
   ]
  },
  {
   "cell_type": "markdown",
   "metadata": {},
   "source": [
    "# Exercise 2\n",
    "\n",
    "Create a class including an `__init__` function that initializes some sort of state when objects are created. Demonstrate that the state is initialized."
   ]
  },
  {
   "cell_type": "code",
   "execution_count": 24,
   "metadata": {},
   "outputs": [
    {
     "name": "stdout",
     "output_type": "stream",
     "text": [
      "These are the brands with the shade name 'Mocha':  Nars\n"
     ]
    }
   ],
   "source": [
    "# initializes some sort of state when objects are created \n",
    "class makeup:\n",
    "    def __init__(self,brand,shade = 'Mocha'):\n",
    "        self.brand = brand\n",
    "        self.shade = shade\n",
    "    def print_brand(self):\n",
    "        print(\"These are the brands with the shade name 'Mocha': \" ,self.brand)\n",
    "    \n",
    "own = makeup(\"Nars\")\n",
    "own.print_brand()"
   ]
  },
  {
   "cell_type": "markdown",
   "metadata": {},
   "source": [
    "# Exercise 3\n",
    "\n",
    "Building on our point example, add code to alter the class to store three values `x`, `y`, and `z`. Bonus if you're able to implement the distance method for this new class."
   ]
  },
  {
   "cell_type": "code",
   "execution_count": 16,
   "metadata": {},
   "outputs": [
    {
     "data": {
      "text/plain": [
       "8.12403840463596"
      ]
     },
     "execution_count": 16,
     "metadata": {},
     "output_type": "execute_result"
    }
   ],
   "source": [
    "class Point:\n",
    "    def __init__(self, x, y, z):\n",
    "        self.x = x \n",
    "        self.y = y\n",
    "        self.z = z \n",
    "    def print_coords(self):\n",
    "        print(f\"x : {self.x}, y: {self.y} z:{self.z}\")\n",
    "    def calculate_distance(self,other_point):\n",
    "        if isinstance(other_point,Point):\n",
    "            return ((other_point.x - self.x)**2 +(other_point.y- self.y)**2 +(other_point.z - self.z)**2)**0.5\n",
    "        else:\n",
    "            print(\"other point is not a point\")\n",
    "p = Point(2,3,4)\n",
    "q = Point(5,7,2)\n",
    "r = Point(9,2,0)\n",
    "        \n",
    "p.calculate_distance(r)"
   ]
  },
  {
   "cell_type": "markdown",
   "metadata": {},
   "source": [
    "# Exercise 4\n",
    "\n",
    "Create an example of a class that uses either `@staticmethod` or `@classmethod`"
   ]
  },
  {
   "cell_type": "code",
   "execution_count": 19,
   "metadata": {},
   "outputs": [
    {
     "name": "stdout",
     "output_type": "stream",
     "text": [
      "The difference between these numbers entered are -57\n"
     ]
    }
   ],
   "source": [
    "class Example:\n",
    "    @staticmethod \n",
    "    def sub(a,b,c):\n",
    "        return(a-b-c)\n",
    "x = 6 \n",
    "y = 9\n",
    "z = 54 \n",
    "\n",
    "print(\"The difference between these numbers entered are\", Example.sub(x,y,z))"
   ]
  },
  {
   "cell_type": "markdown",
   "metadata": {},
   "source": [
    "# Exercise 5\n",
    "\n",
    "Create an object called `Student` with attributes that store the `first_name`, `last_name`, and `age` of the student. Also create an attribute `hw_grades` that stores hw grades depending on how you think it might be stored. Create methods that prints the full name of the student, adds grades to the attribute`hw_grades` and even calculates the average hw grade. Use additional attributes and methods if needed.\n",
    "\n",
    "Demonstrate that your code works by creating an instance of the class and storing the requisite information."
   ]
  },
  {
   "cell_type": "code",
   "execution_count": 15,
   "metadata": {},
   "outputs": [
    {
     "data": {
      "text/plain": [
       "68.0"
      ]
     },
     "execution_count": 15,
     "metadata": {},
     "output_type": "execute_result"
    }
   ],
   "source": [
    "# object called student \n",
    "# attributes that store first name, last name, and age, hw grades \n",
    "# print the full name of the student,adds the grade to hw_grades\n",
    "#calculate the average hw_grade \n",
    "\n",
    "class Student_Profile:\n",
    "    def __init__(self,first_name,last_name,age,hw_grades):\n",
    "        self.first_name = first_name\n",
    "        self.last_name = last_name\n",
    "        self.age = age \n",
    "        self.hw_grades = hw_grades\n",
    "    def average_homework(self):\n",
    "            average = sum(self.hw_grades)/len(self.hw_grades)\n",
    "            return average\n",
    "        \n",
    "        \n",
    "student = Student_Profile(\"Jessica\",\"De Mota\", 19, [54,97,69,32,88])\n",
    "student.hw_grades\n",
    "student.average_homework()"
   ]
  },
  {
   "cell_type": "code",
   "execution_count": null,
   "metadata": {},
   "outputs": [],
   "source": []
  }
 ],
 "metadata": {
  "kernelspec": {
   "display_name": "Python 3",
   "language": "python",
   "name": "python3"
  },
  "language_info": {
   "codemirror_mode": {
    "name": "ipython",
    "version": 3
   },
   "file_extension": ".py",
   "mimetype": "text/x-python",
   "name": "python",
   "nbconvert_exporter": "python",
   "pygments_lexer": "ipython3",
   "version": "3.6.10"
  }
 },
 "nbformat": 4,
 "nbformat_minor": 4
}
