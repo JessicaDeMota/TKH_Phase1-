{
 "cells": [
  {
   "cell_type": "markdown",
   "metadata": {},
   "source": [
    "<div style=\"background: #000;\n",
    "            color: #FFF;\n",
    "            margin: 0px;\n",
    "                padding: 10px 0px 20px 0px;\n",
    "            text-align: center; \n",
    "                \">\n",
    "    <h1>Week 3 - Class 1 - Lab</h1>\n",
    "</div>\n"
   ]
  },
  {
   "cell_type": "markdown",
   "metadata": {},
   "source": [
    "# Question 1\n",
    "    \n",
    "Why do we need control structures and conditionals? Name one scenario we've encountered in previous assignments that could have benefitted from the use of these things. How would it have helped?"
   ]
  },
  {
   "cell_type": "markdown",
   "metadata": {},
   "source": [
    "We need control structures and conditionals, because they allow us to iterate through structures given certain conditions. In code, it is easier to shorten a pathway to find a specific item if a loop is given, or an if statement because it allows us to hone in, on what specific item, element, or etc you're looking for. An example of where this could have helped is for printing the list of unique elements, in the previous homework assignment. The reason why, is because it is simpler to loop through a whole list specifying what you're looking for rather pulling out specifically elements that you believe may fit. "
   ]
  },
  {
   "cell_type": "markdown",
   "metadata": {},
   "source": [
    "# Exercise 1\n",
    "\n",
    "Given the input variable, write conditional statements to return True if an element:\n",
    "* contains a string longer than 30.\n",
    "* is a number greater than 30.\n",
    "* is a string less than 30 characters containing a number.\n",
    "* otherwise store the value to a list."
   ]
  },
  {
   "cell_type": "code",
   "execution_count": null,
   "metadata": {
    "scrolled": false
   },
   "outputs": [],
   "source": [
    "#create an input variable \n",
    "#1st thing we need to do is create a variable for the user input \n",
    "#2nd thing we need to do is a create an empty list that we will be appending the strings that don't fit.\n",
    "#3rd thing we need to do is create an if statement for the length of the string \n",
    "#4th thing we need to do is create a string to characther conversion \n",
    "#5th thing is create an else statement to append to a list. \n",
    "\n",
    "not_thirty = []\n",
    "user = input(\"Enter a string:\")\n",
    "if user == str and len(user)> 30:\n",
    "    print(\"True\")\n",
    "elif len(user) < 30:\n",
    "    for element in user:\n",
    "        if element.isdigit():\n",
    "            print(\"True\")\n",
    "else:\n",
    "    not_thirty.append(user)\n",
    "    print(not_thirty)\n",
    "    "
   ]
  },
  {
   "cell_type": "markdown",
   "metadata": {},
   "source": [
    "# Exercise 2\n",
    "\n",
    "Create a \"switch\" statement that takes a number and prints \"fizz\" if the number is greater than 0 **and** even, \"buzz\" if greater than 0 and odd, an absolute value of the number if negative, \"ZERO\" if 0 and \"not a number\" otherwise. \n"
   ]
  },
  {
   "cell_type": "code",
   "execution_count": null,
   "metadata": {},
   "outputs": [],
   "source": [
    "# condition that allows for if the number is greater than 0 and and even prints fizz\n",
    "# case 1 : num > 0 and num%2 == 0 \n",
    "#system.out println(\"fizz\")\n",
    "# case 2: num > 0 and num%2 != 0 and abs( )\n",
    "#system out.println(\"buzz\")\n",
    "# case 4: num == 0 and num == isnumeric()\n",
    "#system.out.println(\"Zero\")\n",
    "x = 9\n",
    "\n",
    "if type(x) == int and x == 0:\n",
    "    print(\"Zero\")\n",
    "elif type(x) == int and x%2 == 0:\n",
    "    print(\"fizz\")\n",
    "elif type(x) == int and x%2 !=0:\n",
    "    print(\"buzz\")\n",
    "else:\n",
    "    print(\"This is not a number!\")\n",
    "\n"
   ]
  },
  {
   "cell_type": "markdown",
   "metadata": {},
   "source": [
    "# Exercise 3\n",
    "\n",
    "Using the following code. Write an if statement that takes the `value` returned by the `random_function` and does the following:\n",
    "* print \"true\" if False\n",
    "* print \"false\" if True,\n",
    "* sorts a string and prints it if the string is all lowercase\n",
    "* prints \"one char\" if there's a single uppercase character\n",
    "* prints \"string\" if the other two don't apply (hint: nest)\n",
    "* append the value to a list if a number greater or equal to 0.\n",
    "* add the absolute value of a negative number to a sum\n"
   ]
  },
  {
   "cell_type": "code",
   "execution_count": null,
   "metadata": {},
   "outputs": [],
   "source": [
    "import random \n",
    "import string\n",
    "def random_string():\n",
    "    letters = string.ascii_letters\n",
    "    r = [random.choice(letters) for i in range(4)]\n",
    "    return \"\".join(r)\n",
    "def random_number():\n",
    "    return random.randint(-1000,1000)\n",
    "def random_bool():\n",
    "    return bool(random.randint(0,1))\n",
    "def random_function():\n",
    "    s = {\n",
    "        0: random_string(),\n",
    "        1: random_number(), \n",
    "        2: random_bool(),\n",
    "    }\n",
    "    return s[random.randint(0, 2)]"
   ]
  },
  {
   "cell_type": "code",
   "execution_count": null,
   "metadata": {},
   "outputs": [],
   "source": [
    "value = random_function()\n",
    "print(value)"
   ]
  },
  {
   "cell_type": "code",
   "execution_count": null,
   "metadata": {},
   "outputs": [],
   "source": [
    "#put your code here:\n",
    "test = []\n",
    "if value == True:\n",
    "    print(value,\"False\")\n",
    "elif value == False: \n",
    "    print(value,\"True\")\n",
    "else:\n",
    "    print(\"Neither\")\n",
    "    #test = [False,True, \"STRING\", \"Capital\", \"lowercase\", 100, -55]\n",
    "    #for element in test:\n"
   ]
  },
  {
   "cell_type": "code",
   "execution_count": null,
   "metadata": {},
   "outputs": [],
   "source": [
    "if value.isupper() == True:\n",
    "    print(\"one char\")"
   ]
  },
  {
   "cell_type": "code",
   "execution_count": null,
   "metadata": {},
   "outputs": [],
   "source": [
    "if value >= 0:\n",
    "    test.append(value)\n",
    "print(test)"
   ]
  },
  {
   "cell_type": "code",
   "execution_count": null,
   "metadata": {},
   "outputs": [],
   "source": [
    "a.sort(key= lambda x.lower(),x)"
   ]
  },
  {
   "cell_type": "code",
   "execution_count": null,
   "metadata": {},
   "outputs": [],
   "source": [
    "if value <=0:\n",
    "    print(abs(value) + sum(value))"
   ]
  },
  {
   "cell_type": "code",
   "execution_count": null,
   "metadata": {},
   "outputs": [],
   "source": []
  }
 ],
 "metadata": {
  "kernelspec": {
   "display_name": "Python 3",
   "language": "python",
   "name": "python3"
  },
  "language_info": {
   "codemirror_mode": {
    "name": "ipython",
    "version": 3
   },
   "file_extension": ".py",
   "mimetype": "text/x-python",
   "name": "python",
   "nbconvert_exporter": "python",
   "pygments_lexer": "ipython3",
   "version": "3.6.10"
  }
 },
 "nbformat": 4,
 "nbformat_minor": 4
}
