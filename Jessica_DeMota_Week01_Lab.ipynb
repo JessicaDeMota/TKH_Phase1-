{
 "cells": [
  {
   "cell_type": "markdown",
   "metadata": {},
   "source": [
    "<div style=\"background: #000;\n",
    "            color: #FFF;\n",
    "            margin: 0px;\n",
    "                padding: 10px 0px 20px 0px;\n",
    "            text-align: center; \n",
    "                \">\n",
    "    <h1>Extended Lab</h1>\n",
    "</div>\n"
   ]
  },
  {
   "cell_type": "markdown",
   "metadata": {},
   "source": [
    "### Question 1: \n",
    "\n",
    "Explain what data types are in your own words."
   ]
  },
  {
   "cell_type": "markdown",
   "metadata": {},
   "source": [
    "Data types are used to organize and compile information with a dataset. It allows to make procedures easier for programmers by using quick handed methods that can compare, represent a value, or be numerically represented. "
   ]
  },
  {
   "cell_type": "markdown",
   "metadata": {},
   "source": [
    "## Question 2:\n",
    "\n",
    "In your own words, explain what a float is and why sometimes it gives an incorrect value."
   ]
  },
  {
   "cell_type": "markdown",
   "metadata": {},
   "source": [
    " A float is an overall set of whole numbers, compared to real numbers it does not contain fractions, but it seperates the number from its fractional part. Floats often give an incorrect value because of the round- off issue, it has after the decimal."
   ]
  },
  {
   "cell_type": "markdown",
   "metadata": {},
   "source": [
    "### Exercise 1:\n",
    "\n",
    "Store your first name, in lowercase, in a variable.\n",
    "Using that one variable, print your name in lowercase, Titlecase, and UPPERCASE.\n"
   ]
  },
  {
   "cell_type": "code",
   "execution_count": 27,
   "metadata": {},
   "outputs": [
    {
     "name": "stdout",
     "output_type": "stream",
     "text": [
      "jessica\n",
      "JESSICA\n",
      "Jessica\n"
     ]
    }
   ],
   "source": [
    "name = \"jessica\" \n",
    "print (name.lower())\n",
    "print (name.upper())\n",
    "print (name.title())\n"
   ]
  },
  {
   "cell_type": "markdown",
   "metadata": {},
   "source": [
    "### Exercise 2:\n",
    "\n",
    "Find a quote that you like. Store the quote in a variable, with an appropriate introduction such as \"Ken Thompson once said, 'One of my most productive days was throwing away 1000 lines of code'\". Print the quote 1000 times."
   ]
  },
  {
   "cell_type": "code",
   "execution_count": 28,
   "metadata": {},
   "outputs": [
    {
     "name": "stdout",
     "output_type": "stream",
     "text": [
      "Gary Zuckav once said, Ask and you shall recieve is the rule, but you must learn how to ask and how to recieve \n",
      "Gary Zuckav once said, Ask and you shall recieve is the rule, but you must learn how to ask and how to recieve \n",
      "Gary Zuckav once said, Ask and you shall recieve is the rule, but you must learn how to ask and how to recieve \n",
      "Gary Zuckav once said, Ask and you shall recieve is the rule, but you must learn how to ask and how to recieve \n",
      "Gary Zuckav once said, Ask and you shall recieve is the rule, but you must learn how to ask and how to recieve \n",
      "Gary Zuckav once said, Ask and you shall recieve is the rule, but you must learn how to ask and how to recieve \n",
      "Gary Zuckav once said, Ask and you shall recieve is the rule, but you must learn how to ask and how to recieve \n",
      "Gary Zuckav once said, Ask and you shall recieve is the rule, but you must learn how to ask and how to recieve \n",
      "Gary Zuckav once said, Ask and you shall recieve is the rule, but you must learn how to ask and how to recieve \n",
      "Gary Zuckav once said, Ask and you shall recieve is the rule, but you must learn how to ask and how to recieve \n",
      "Gary Zuckav once said, Ask and you shall recieve is the rule, but you must learn how to ask and how to recieve \n",
      "Gary Zuckav once said, Ask and you shall recieve is the rule, but you must learn how to ask and how to recieve \n",
      "Gary Zuckav once said, Ask and you shall recieve is the rule, but you must learn how to ask and how to recieve \n",
      "Gary Zuckav once said, Ask and you shall recieve is the rule, but you must learn how to ask and how to recieve \n",
      "Gary Zuckav once said, Ask and you shall recieve is the rule, but you must learn how to ask and how to recieve \n",
      "Gary Zuckav once said, Ask and you shall recieve is the rule, but you must learn how to ask and how to recieve \n",
      "Gary Zuckav once said, Ask and you shall recieve is the rule, but you must learn how to ask and how to recieve \n",
      "Gary Zuckav once said, Ask and you shall recieve is the rule, but you must learn how to ask and how to recieve \n",
      "Gary Zuckav once said, Ask and you shall recieve is the rule, but you must learn how to ask and how to recieve \n",
      "Gary Zuckav once said, Ask and you shall recieve is the rule, but you must learn how to ask and how to recieve \n",
      "Gary Zuckav once said, Ask and you shall recieve is the rule, but you must learn how to ask and how to recieve \n",
      "Gary Zuckav once said, Ask and you shall recieve is the rule, but you must learn how to ask and how to recieve \n",
      "Gary Zuckav once said, Ask and you shall recieve is the rule, but you must learn how to ask and how to recieve \n",
      "Gary Zuckav once said, Ask and you shall recieve is the rule, but you must learn how to ask and how to recieve \n",
      "Gary Zuckav once said, Ask and you shall recieve is the rule, but you must learn how to ask and how to recieve \n",
      "Gary Zuckav once said, Ask and you shall recieve is the rule, but you must learn how to ask and how to recieve \n",
      "Gary Zuckav once said, Ask and you shall recieve is the rule, but you must learn how to ask and how to recieve \n",
      "Gary Zuckav once said, Ask and you shall recieve is the rule, but you must learn how to ask and how to recieve \n",
      "Gary Zuckav once said, Ask and you shall recieve is the rule, but you must learn how to ask and how to recieve \n",
      "Gary Zuckav once said, Ask and you shall recieve is the rule, but you must learn how to ask and how to recieve \n",
      "Gary Zuckav once said, Ask and you shall recieve is the rule, but you must learn how to ask and how to recieve \n",
      "Gary Zuckav once said, Ask and you shall recieve is the rule, but you must learn how to ask and how to recieve \n",
      "Gary Zuckav once said, Ask and you shall recieve is the rule, but you must learn how to ask and how to recieve \n",
      "Gary Zuckav once said, Ask and you shall recieve is the rule, but you must learn how to ask and how to recieve \n",
      "Gary Zuckav once said, Ask and you shall recieve is the rule, but you must learn how to ask and how to recieve \n",
      "Gary Zuckav once said, Ask and you shall recieve is the rule, but you must learn how to ask and how to recieve \n",
      "Gary Zuckav once said, Ask and you shall recieve is the rule, but you must learn how to ask and how to recieve \n",
      "Gary Zuckav once said, Ask and you shall recieve is the rule, but you must learn how to ask and how to recieve \n",
      "Gary Zuckav once said, Ask and you shall recieve is the rule, but you must learn how to ask and how to recieve \n",
      "Gary Zuckav once said, Ask and you shall recieve is the rule, but you must learn how to ask and how to recieve \n",
      "Gary Zuckav once said, Ask and you shall recieve is the rule, but you must learn how to ask and how to recieve \n",
      "Gary Zuckav once said, Ask and you shall recieve is the rule, but you must learn how to ask and how to recieve \n",
      "Gary Zuckav once said, Ask and you shall recieve is the rule, but you must learn how to ask and how to recieve \n",
      "Gary Zuckav once said, Ask and you shall recieve is the rule, but you must learn how to ask and how to recieve \n",
      "Gary Zuckav once said, Ask and you shall recieve is the rule, but you must learn how to ask and how to recieve \n",
      "Gary Zuckav once said, Ask and you shall recieve is the rule, but you must learn how to ask and how to recieve \n",
      "Gary Zuckav once said, Ask and you shall recieve is the rule, but you must learn how to ask and how to recieve \n",
      "Gary Zuckav once said, Ask and you shall recieve is the rule, but you must learn how to ask and how to recieve \n",
      "Gary Zuckav once said, Ask and you shall recieve is the rule, but you must learn how to ask and how to recieve \n",
      "Gary Zuckav once said, Ask and you shall recieve is the rule, but you must learn how to ask and how to recieve \n",
      "Gary Zuckav once said, Ask and you shall recieve is the rule, but you must learn how to ask and how to recieve \n",
      "Gary Zuckav once said, Ask and you shall recieve is the rule, but you must learn how to ask and how to recieve \n",
      "Gary Zuckav once said, Ask and you shall recieve is the rule, but you must learn how to ask and how to recieve \n",
      "Gary Zuckav once said, Ask and you shall recieve is the rule, but you must learn how to ask and how to recieve \n",
      "Gary Zuckav once said, Ask and you shall recieve is the rule, but you must learn how to ask and how to recieve \n",
      "Gary Zuckav once said, Ask and you shall recieve is the rule, but you must learn how to ask and how to recieve \n",
      "Gary Zuckav once said, Ask and you shall recieve is the rule, but you must learn how to ask and how to recieve \n",
      "Gary Zuckav once said, Ask and you shall recieve is the rule, but you must learn how to ask and how to recieve \n",
      "Gary Zuckav once said, Ask and you shall recieve is the rule, but you must learn how to ask and how to recieve \n",
      "Gary Zuckav once said, Ask and you shall recieve is the rule, but you must learn how to ask and how to recieve \n",
      "Gary Zuckav once said, Ask and you shall recieve is the rule, but you must learn how to ask and how to recieve \n",
      "Gary Zuckav once said, Ask and you shall recieve is the rule, but you must learn how to ask and how to recieve \n",
      "Gary Zuckav once said, Ask and you shall recieve is the rule, but you must learn how to ask and how to recieve \n",
      "Gary Zuckav once said, Ask and you shall recieve is the rule, but you must learn how to ask and how to recieve \n",
      "Gary Zuckav once said, Ask and you shall recieve is the rule, but you must learn how to ask and how to recieve \n",
      "Gary Zuckav once said, Ask and you shall recieve is the rule, but you must learn how to ask and how to recieve \n",
      "Gary Zuckav once said, Ask and you shall recieve is the rule, but you must learn how to ask and how to recieve \n",
      "Gary Zuckav once said, Ask and you shall recieve is the rule, but you must learn how to ask and how to recieve \n",
      "Gary Zuckav once said, Ask and you shall recieve is the rule, but you must learn how to ask and how to recieve \n",
      "Gary Zuckav once said, Ask and you shall recieve is the rule, but you must learn how to ask and how to recieve \n",
      "Gary Zuckav once said, Ask and you shall recieve is the rule, but you must learn how to ask and how to recieve \n",
      "Gary Zuckav once said, Ask and you shall recieve is the rule, but you must learn how to ask and how to recieve \n",
      "Gary Zuckav once said, Ask and you shall recieve is the rule, but you must learn how to ask and how to recieve \n",
      "Gary Zuckav once said, Ask and you shall recieve is the rule, but you must learn how to ask and how to recieve \n",
      "Gary Zuckav once said, Ask and you shall recieve is the rule, but you must learn how to ask and how to recieve \n",
      "Gary Zuckav once said, Ask and you shall recieve is the rule, but you must learn how to ask and how to recieve \n",
      "Gary Zuckav once said, Ask and you shall recieve is the rule, but you must learn how to ask and how to recieve \n",
      "Gary Zuckav once said, Ask and you shall recieve is the rule, but you must learn how to ask and how to recieve \n",
      "Gary Zuckav once said, Ask and you shall recieve is the rule, but you must learn how to ask and how to recieve \n",
      "Gary Zuckav once said, Ask and you shall recieve is the rule, but you must learn how to ask and how to recieve \n",
      "Gary Zuckav once said, Ask and you shall recieve is the rule, but you must learn how to ask and how to recieve \n",
      "Gary Zuckav once said, Ask and you shall recieve is the rule, but you must learn how to ask and how to recieve \n",
      "Gary Zuckav once said, Ask and you shall recieve is the rule, but you must learn how to ask and how to recieve \n",
      "Gary Zuckav once said, Ask and you shall recieve is the rule, but you must learn how to ask and how to recieve \n",
      "Gary Zuckav once said, Ask and you shall recieve is the rule, but you must learn how to ask and how to recieve \n",
      "Gary Zuckav once said, Ask and you shall recieve is the rule, but you must learn how to ask and how to recieve \n",
      "Gary Zuckav once said, Ask and you shall recieve is the rule, but you must learn how to ask and how to recieve \n",
      "Gary Zuckav once said, Ask and you shall recieve is the rule, but you must learn how to ask and how to recieve \n",
      "Gary Zuckav once said, Ask and you shall recieve is the rule, but you must learn how to ask and how to recieve \n",
      "Gary Zuckav once said, Ask and you shall recieve is the rule, but you must learn how to ask and how to recieve \n",
      "Gary Zuckav once said, Ask and you shall recieve is the rule, but you must learn how to ask and how to recieve \n",
      "Gary Zuckav once said, Ask and you shall recieve is the rule, but you must learn how to ask and how to recieve \n",
      "Gary Zuckav once said, Ask and you shall recieve is the rule, but you must learn how to ask and how to recieve \n",
      "Gary Zuckav once said, Ask and you shall recieve is the rule, but you must learn how to ask and how to recieve \n",
      "Gary Zuckav once said, Ask and you shall recieve is the rule, but you must learn how to ask and how to recieve \n",
      "Gary Zuckav once said, Ask and you shall recieve is the rule, but you must learn how to ask and how to recieve \n",
      "Gary Zuckav once said, Ask and you shall recieve is the rule, but you must learn how to ask and how to recieve \n",
      "Gary Zuckav once said, Ask and you shall recieve is the rule, but you must learn how to ask and how to recieve \n",
      "Gary Zuckav once said, Ask and you shall recieve is the rule, but you must learn how to ask and how to recieve \n",
      "Gary Zuckav once said, Ask and you shall recieve is the rule, but you must learn how to ask and how to recieve \n"
     ]
    }
   ],
   "source": [
    "quote = \"Gary Zuckav once said, Ask and you shall recieve is the rule, but you must learn how to ask and how to recieve \"\n",
    "for i in range(1000):\n",
    "    print(quote)\n",
    "    "
   ]
  },
  {
   "cell_type": "markdown",
   "metadata": {},
   "source": [
    "##### Exercise 3:\n",
    "\n",
    "Use python string operations and methods to use the following variables to print this:\n",
    "\n",
    "    \"hello world\""
   ]
  },
  {
   "cell_type": "markdown",
   "metadata": {},
   "source": [
    "message_1 = \"hELlo\"\n",
    "message_2 = \"                              wor\"\n",
    "message_3 = \"wbdaloqteldndyrcggzf\""
   ]
  },
  {
   "cell_type": "code",
   "execution_count": 43,
   "metadata": {},
   "outputs": [
    {
     "name": "stdout",
     "output_type": "stream",
     "text": [
      "hello\n",
      "wor\n",
      "ld\n",
      "hello world\n"
     ]
    }
   ],
   "source": [
    "message_1 = \"hELlo\"\n",
    "message_2 =  \"                              wor\"\n",
    "message_3 =\"wbdaloqteldndyrcggzf\"\n",
    "\n",
    "print(message_1.lower())\n",
    "print(message_2.strip())\n",
    "print(message_3[9:11])\n",
    "print(message_1.lower() + \" \" + message_2.strip() + message_3[9:11])\n"
   ]
  },
  {
   "cell_type": "markdown",
   "metadata": {},
   "source": [
    "### Exercise 4\n",
    "\n",
    "Fix the following code so it prints properly"
   ]
  },
  {
   "cell_type": "code",
   "execution_count": 30,
   "metadata": {},
   "outputs": [
    {
     "name": "stdout",
     "output_type": "stream",
     "text": [
      "The price is $3.44.\n"
     ]
    }
   ],
   "source": [
    "# Dollar amounts should only have two digits after the decimal\n",
    "print(\"The price is $%.2f.\" % (3.44444))"
   ]
  },
  {
   "cell_type": "code",
   "execution_count": 44,
   "metadata": {},
   "outputs": [
    {
     "name": "stdout",
     "output_type": "stream",
     "text": [
      "enter your name: jessica\n",
      "enter the language you are learning: python\n",
      "jessica, is learning python\n"
     ]
    }
   ],
   "source": [
    "# Complete the code so it prints your name and what you're learning\n",
    "name = input(\"enter your name: \")\n",
    "language = input(\"enter the language you are learning: \")\n",
    "print(\"{}, is learning {}\".format(name, language))"
   ]
  },
  {
   "cell_type": "markdown",
   "metadata": {},
   "source": [
    "### Exercise 5\n",
    "\n",
    "Create your own mad-lib with at least 5 inputs."
   ]
  },
  {
   "cell_type": "code",
   "execution_count": null,
   "metadata": {},
   "outputs": [],
   "source": [
    "\"Once upon a time a man was riding a horse and on his way to ride that horse he stumbled amongst a{first_noun}, he was shocked to see this rare gem he couldn't believe what he was coming across so he {first_adjective} off the horse and the horse {second_adjective} he seemed to know someone around the area or something seed oddly familiar maybe it was {second_noun}. It seemed that Spongebob and {plural_Noun} were all together did he just enter the Chum Bucket? Was he deep deep in the sea\""
   ]
  },
  {
   "cell_type": "code",
   "execution_count": 50,
   "metadata": {},
   "outputs": [
    {
     "name": "stdout",
     "output_type": "stream",
     "text": [
      "Enter a noun: jessica\n",
      "Enter an adjective: jjw\n",
      "Enter a second adjective: nmw\n",
      "Enter a second noun: jdm\n",
      "Enter a plural Noun: mdmw\n",
      "Once upon a time a man was riding a horse and on his way to ride that horse he stumbled amongst jessica, he was shocked to see this rare gem he couldn't believe what he was coming across so he jjw off the horse and the horse nmw he seemed to know someone around the area or something seemed oddly familiar maybe it was jdm. It seemed that Spongebob and mdmw were all together did he just enter the Chum Bucket? Was he deep deep in the sea\n"
     ]
    }
   ],
   "source": [
    "first_noun = input(\"Enter a noun: \")\n",
    "first_adjective = input(\"Enter an adjective: \")\n",
    "second_adjective = input(\"Enter a second adjective: \")\n",
    "second_noun = input(\"Enter a second noun: \")\n",
    "plural_Noun = input(\"Enter a plural Noun: \")\n",
    "\n",
    "mad_lib = f\"Once upon a time a man was riding a horse and on his way to ride that horse he stumbled amongst {first_noun}, he was shocked to see this rare gem he couldn't believe what he was coming across so he {first_adjective} off the horse and the horse {second_adjective} he seemed to know someone around the area or something seemed oddly familiar maybe it was {second_noun}. It seemed that Spongebob and {plural_Noun} were all together did he just enter the Chum Bucket? Was he deep deep in the sea\"\n",
    "print (mad_lib)"
   ]
  },
  {
   "cell_type": "code",
   "execution_count": null,
   "metadata": {},
   "outputs": [],
   "source": []
  }
 ],
 "metadata": {
  "kernelspec": {
   "display_name": "Python 3",
   "language": "python",
   "name": "python3"
  },
  "language_info": {
   "codemirror_mode": {
    "name": "ipython",
    "version": 3
   },
   "file_extension": ".py",
   "mimetype": "text/x-python",
   "name": "python",
   "nbconvert_exporter": "python",
   "pygments_lexer": "ipython3",
   "version": "3.6.10"
  }
 },
 "nbformat": 4,
 "nbformat_minor": 4
}
