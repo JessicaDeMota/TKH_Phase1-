{
 "cells": [
  {
   "cell_type": "markdown",
   "metadata": {},
   "source": [
    "<div style=\"background: #000;\n",
    "            color: #FFF;\n",
    "            margin: 0px;\n",
    "                padding: 10px 0px 20px 0px;\n",
    "            text-align: center; \n",
    "                \">\n",
    "    <h1>Week 5 - Class 1 - Lab</h1>\n",
    "</div>"
   ]
  },
  {
   "cell_type": "markdown",
   "metadata": {},
   "source": [
    "# Question 1:\n",
    "\n",
    "What are signs you should use a recursive function? What happens when you do a recursive function call in a return statement?\n",
    "\n",
    "Walk us through how recursive functions work in your answer."
   ]
  },
  {
   "cell_type": "markdown",
   "metadata": {},
   "source": [
    "You should use a recursive function when it is a complex function, recursive functions allow you to be able to call the function which helps make a function easier. For example if you are trying to find 56^2^2 power it is impossible to find this function by manually doing it or calculating unless using a library. Recursive functiosn allow you to go back into the previous step and be able to figure out the next. Reffering back to 56^2^2, the function will first look at 56^2 to be able to then square that. When you do a recursive function call in a return statement the recursive function reads the base case, and then the recursive case. The base in this is 56, but the case is to power to the 2nd, but we are looking for a specific element. "
   ]
  },
  {
   "cell_type": "markdown",
   "metadata": {},
   "source": [
    "# Exercise 1:\n",
    "\n",
    "Create a function that executes in constant time. Then create a function that executes in linear time. Curry the two functions to produce an output."
   ]
  },
  {
   "cell_type": "code",
   "execution_count": 4,
   "metadata": {},
   "outputs": [
    {
     "data": {
      "text/plain": [
       "27"
      ]
     },
     "execution_count": 4,
     "metadata": {},
     "output_type": "execute_result"
    }
   ],
   "source": [
    "# f(x) = 5x+12\n",
    "# f(x) = 3 \n",
    "#h(x) = 27 \n",
    "#f(g(x)) = 5(5)\n",
    "\n",
    "def linear_func(n):\n",
    "    return 5*n +12\n",
    "def constant_fun(n):\n",
    "    return 3\n",
    "def curried_func(n):\n",
    "    return 5*3+12\n",
    "    \n",
    "linear_func(1)\n",
    "constant_fun(3)\n",
    "curried_func(8)"
   ]
  },
  {
   "cell_type": "markdown",
   "metadata": {},
   "source": [
    "# Exercise 2:\n",
    "\n",
    "Create a function using the following function that will take your choice of the following and input:\n",
    "\n",
    "\"R\" (rock), \"P\" (paper), or \"S\" (scissors) \n",
    "\n",
    "and return whether or not you beat the computer.\n"
   ]
  },
  {
   "cell_type": "code",
   "execution_count": 5,
   "metadata": {},
   "outputs": [
    {
     "data": {
      "text/plain": [
       "(0, 'rock')"
      ]
     },
     "execution_count": 5,
     "metadata": {},
     "output_type": "execute_result"
    }
   ],
   "source": [
    "# we import the random library \n",
    "# the function then generates a random choice based on the \n",
    "#values that are assigned to the keys. \n",
    "# it selects a random value. \n",
    "# return a choice \n",
    "import random\n",
    "def computers_turn():\n",
    "    choices = {\n",
    "        0: 'rock',\n",
    "        1: 'paper',\n",
    "        2: 'scissors',\n",
    "    }\n",
    "    turn = random.randint(0,2)\n",
    "    return (turn, choices[turn])\n",
    "\n",
    "computers_turn()"
   ]
  },
  {
   "cell_type": "code",
   "execution_count": 11,
   "metadata": {},
   "outputs": [
    {
     "ename": "SyntaxError",
     "evalue": "'return' outside function (<ipython-input-11-57a6a3c2376b>, line 8)",
     "output_type": "error",
     "traceback": [
      "\u001b[0;36m  File \u001b[0;32m\"<ipython-input-11-57a6a3c2376b>\"\u001b[0;36m, line \u001b[0;32m8\u001b[0m\n\u001b[0;31m    return choices[choice]\u001b[0m\n\u001b[0m                          ^\u001b[0m\n\u001b[0;31mSyntaxError\u001b[0m\u001b[0;31m:\u001b[0m 'return' outside function\n"
     ]
    }
   ],
   "source": [
    "def my_turn():\n",
    "    choice = input(\"Rock, paper, scissors\")\n",
    "choices = {\n",
    "    \"R\" : 'rock', \n",
    "    \"P\" : 'paper',\n",
    "    \"S\" : 'scissors',\n",
    "    }\n",
    "return choices[choice]\n",
    "\n",
    "def winner():\n",
    "    player_1 = computers_turn()\n",
    "    player_2 = my_turn()\n",
    "    if player_1 == player_2:\n",
    "        return winner()\n",
    "    \n",
    "    while player_1 == 'rock':\n",
    "        if player_2 =='paper':\n",
    "            return \"Computer wins\"\n",
    "        elif player_2 == 'scissors':\n",
    "            return \"Computer wins\"\n",
    "        else:\n",
    "            return \"Player Wins\"\n",
    "        \n",
    "    while player_1 == 'paper':\n",
    "        if player_2 == 'scissors':\n",
    "            return \"Computer Wins\"\n",
    "        elif player_2 == 'rock':\n",
    "            return \"Computer Wins\"\n",
    "        else:\n",
    "            return \"Player Wins\"\n",
    "        \n",
    "    while player_1 == 'scissors':\n",
    "        if player_1 == 'paper':\n",
    "            return \"Computer Wins\"\n",
    "        elif player_1 == 'rock':\n",
    "            return \"Player Wins\"\n",
    "        else:\n",
    "            return \"It's a tie\"\n",
    "winner()"
   ]
  },
  {
   "cell_type": "markdown",
   "metadata": {},
   "source": [
    "# Exercise 3:\n",
    "\n",
    "Create a function that takes a string, converts it to upper, sorts it and then take the `ord()` of each element of the string and adds it to a list. Output the final list.\n",
    "\n",
    "Once your function runs, optimize it to make it more efficient. "
   ]
  },
  {
   "cell_type": "code",
   "execution_count": null,
   "metadata": {},
   "outputs": [],
   "source": [
    "# creates a function that takes a string \n",
    "# we need it to read the string or take it as the input \n",
    "# sort it and then take the ordinal value of each element \n",
    "# adds it to the list. "
   ]
  },
  {
   "cell_type": "code",
   "execution_count": null,
   "metadata": {},
   "outputs": [],
   "source": [
    "def function(string):\n",
    "    uppercase = string.upper()\n",
    "    uppercase_sorted = sorted(uppercase)\n",
    "    lst = []\n",
    "    for i in uppercase_sorted:\n",
    "        lst.append(ord(i))\n",
    "    return lst\n",
    "\n",
    "function(\"cake\")"
   ]
  },
  {
   "cell_type": "markdown",
   "metadata": {},
   "source": [
    "# Exercise 4:\n",
    "\n",
    "Create a recursive function that computers the powers of a number using the following equation:\n",
    "\n",
    "   $$ x^{n} = x * x^{n-1} $$ "
   ]
  },
  {
   "cell_type": "code",
   "execution_count": null,
   "metadata": {},
   "outputs": [],
   "source": [
    "#recursive means that its calling it back \n",
    "# x (x) ^ n-1 \n",
    "def powers(x_base_element,n_pwr):\n",
    "    #if n_pwr == 0:\n",
    "        #return 1\n",
    "    #base case \n",
    "    if n_pwr == 1:\n",
    "        return x_base_element\n",
    "    #recursive case \n",
    "    elif n_pwr > 1:\n",
    "        return powers(x_base_element,n_pwr -1) * x_base_element\n",
    "\n",
    "powers(4,2)"
   ]
  },
  {
   "cell_type": "markdown",
   "metadata": {},
   "source": [
    "# Bonus: \n",
    "\n",
    "Find a lab exercise solution that you previously submitted that you can optimize, make a function out of the solution and make it more efficient."
   ]
  },
  {
   "cell_type": "code",
   "execution_count": null,
   "metadata": {},
   "outputs": [],
   "source": []
  }
 ],
 "metadata": {
  "kernelspec": {
   "display_name": "Python 3",
   "language": "python",
   "name": "python3"
  },
  "language_info": {
   "codemirror_mode": {
    "name": "ipython",
    "version": 3
   },
   "file_extension": ".py",
   "mimetype": "text/x-python",
   "name": "python",
   "nbconvert_exporter": "python",
   "pygments_lexer": "ipython3",
   "version": "3.6.10"
  }
 },
 "nbformat": 4,
 "nbformat_minor": 4
}
