{
 "cells": [
  {
   "cell_type": "markdown",
   "metadata": {},
   "source": [
    "<div style=\"background: #000;\n",
    "            color: #FFF;\n",
    "            margin: 0px;\n",
    "                padding: 10px 0px 20px 0px;\n",
    "            text-align: center; \n",
    "                \">\n",
    "    <h1>Week 5 - Homework</h1>\n",
    "</div>\n",
    "\n",
    "<hr>\n",
    "<pre style=\"text-align: center;\">\n",
    "Exercise 1 due Monday before class time.\n",
    "Exercise 2 due Tuesday before class time.\n",
    "Exercise 3 due Wednesday before class time.\n",
    "</pre>\n",
    "<hr>\n"
   ]
  },
  {
   "cell_type": "markdown",
   "metadata": {},
   "source": [
    "##### Exercise 1\n",
    "\n",
    "Create a function that calculates the double factorial of an odd number. The double factorial of `n` is denoted by `n!!` and is the product of all odd integers up to and including `n`. You can do it using recursion (for bonus points) or any other method you can come up with.\n",
    "\n",
    "e.g. \n",
    "\n",
    "```\n",
    "9!! = 1 x 3 x 5 x 7 x 9 = 945\n",
    "```\n",
    "\n",
    "Output the following once your function works.\n",
    "\n",
    "`double_factorial(13)` "
   ]
  },
  {
   "cell_type": "code",
   "execution_count": 53,
   "metadata": {},
   "outputs": [
    {
     "data": {
      "text/plain": [
       "10395"
      ]
     },
     "execution_count": 53,
     "metadata": {},
     "output_type": "execute_result"
    }
   ],
   "source": [
    "# double factorial starts at 1 \n",
    "# then it skips the amount by an odd amount \n",
    "# so factorial will be 9 x 7 x 6 x 5 x 4 \n",
    "# double factorial starts at 1 and ends at n \n",
    "# so it is n(n-2) 9(9-2) = 9()\n",
    "\n",
    "#def double_factorial(n=13):\n",
    "    #if (n == 0 or n == 1):\n",
    "        #return 1 \n",
    "    #return n * double_factorial(n-2)\n",
    "#print(\"Double factorial is\")\n",
    "\n",
    "#odd factorials are the product of all odd integers \n",
    "# less than or equal to n and greater than or equal to 1\n",
    "#\n",
    "\n",
    "# this is the bonus and recursion attempt \n",
    "def double_factorial(n):\n",
    "    if (n == 1 or n == 0):\n",
    "        return 1\n",
    "    elif (n%2 == 0):\n",
    "        return double_factorial(n-1)\n",
    "    else:\n",
    "        return n * double_factorial(n-2)\n",
    " \n",
    "   \n",
    "double_factorial(11)"
   ]
  },
  {
   "cell_type": "markdown",
   "metadata": {},
   "source": [
    "# Exercise 2\n",
    "\n",
    "Create the decorator function(s) that wraps the `hello` function in the following html tags.\n",
    "\n",
    "hello() -> `<div><p><b>hello</b></p></div>`\n",
    "\n"
   ]
  },
  {
   "cell_type": "code",
   "execution_count": 23,
   "metadata": {
    "scrolled": true
   },
   "outputs": [
    {
     "name": "stdout",
     "output_type": "stream",
     "text": [
      "<div><p><b> hello </b></p></div>\n"
     ]
    }
   ],
   "source": [
    "def new_decorator(func):\n",
    "    def wrapper():\n",
    "        print(\"<div><p><b>\",func(),\"</b></p></div>\")\n",
    "        #func()\n",
    "        #print(\"</b></p></div>\")\n",
    "    return wrapper\n",
    "\n",
    "@new_decorator\n",
    "def hello():\n",
    "      return(\"hello\")\n",
    "    \n",
    "hello()"
   ]
  },
  {
   "cell_type": "code",
   "execution_count": 20,
   "metadata": {
    "scrolled": true
   },
   "outputs": [],
   "source": [
    "def tagger(tag_name):\n",
    "    def decorator_function(func):\n",
    "        def wrapper(name):\n",
    "            print(f\"<{tag_name}><{tag_name}>{func(name)}</{tag_name}<{tag_name}>\")\n",
    "            return wrapper\n",
    "            return decorator_function \n",
    "        \n",
    "        @tagger(\"div\")\n",
    "        def function(name):\n",
    "                return name\n",
    "        function(\"hello\")"
   ]
  },
  {
   "cell_type": "markdown",
   "metadata": {},
   "source": [
    "# Exercise 3\n",
    "\n",
    "If we list all the natural numbers below 10 that are multiples of 3 or 5, we get 3, 5, 6 and 9. The sum of these multiples is 23.\n",
    "\n",
    "Create a function that returns the sum of all the multiples of 3 or 5 below `n` where `n` is the inputted number.\n",
    "\n",
    "e.g. \n",
    "\n",
    "```\n",
    "n=10 -> 23\n",
    "n=25 -> 143\n",
    "n=50 -> 543\n",
    "n=100 -> 2318\n",
    "```"
   ]
  },
  {
   "cell_type": "code",
   "execution_count": 54,
   "metadata": {
    "scrolled": false
   },
   "outputs": [
    {
     "data": {
      "text/plain": [
       "2318"
      ]
     },
     "execution_count": 54,
     "metadata": {},
     "output_type": "execute_result"
    }
   ],
   "source": [
    "def sum_of_threes_and_fives(n=100):\n",
    "    #we need to be able to go through each number up to 100 \n",
    "    # this is the range of n \n",
    "    total = 0 \n",
    "    for n in range (3,n):\n",
    "        if n % 3 == 0 or n % 5 == 0: \n",
    "            total += n \n",
    "                \n",
    "    return total\n",
    "    #pass\n",
    "\n",
    "sum_of_threes_and_fives() "
   ]
  },
  {
   "cell_type": "code",
   "execution_count": null,
   "metadata": {},
   "outputs": [],
   "source": []
  }
 ],
 "metadata": {
  "kernelspec": {
   "display_name": "Python 3",
   "language": "python",
   "name": "python3"
  },
  "language_info": {
   "codemirror_mode": {
    "name": "ipython",
    "version": 3
   },
   "file_extension": ".py",
   "mimetype": "text/x-python",
   "name": "python",
   "nbconvert_exporter": "python",
   "pygments_lexer": "ipython3",
   "version": "3.6.10"
  }
 },
 "nbformat": 4,
 "nbformat_minor": 4
}
