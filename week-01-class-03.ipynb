{
 "cells": [
  {
   "cell_type": "markdown",
   "metadata": {},
   "source": [
    "<div style=\"background: #000;\n",
    "            color: #FFF;\n",
    "            margin: 0px;\n",
    "                padding: 10px 0px 20px 0px;\n",
    "            text-align: center; \n",
    "                \">\n",
    "    <h1>Python Data Science Course - Week 1 - Day 3</h1>\n",
    "</div>\n",
    "\n",
    "## Todays Agenda\n",
    "* Logic Fun\n",
    "* Ints vs. Floats\n",
    "* Math in Python\n",
    "* Discuss homework assignments\n"
   ]
  },
  {
   "cell_type": "markdown",
   "metadata": {},
   "source": [
    "## Logic Fun\n",
    "\n",
    "### Truth Tables\n",
    "\n",
    "\tTrue\t      False\t\tIdentity   \tNegation\n",
    "\tp\tT\t\tp\tF\t\tp\tp\t\tp   ¬P\n",
    "\tT\tT\t\tT\tF\t\tT\tT\t\tT\tF\n",
    "\tF\tT\t\tF\tF\t\tF\tF\t\tF\tT\n",
    "\n",
    "\tAND      OR       XOR     NAND\n",
    "\tp & q\tp || q   p ⊕ q   p  NAND  q\n",
    "\tT T T\tT T  T   T F T   T    F   T\n",
    "\tT F F\tT T  F   T T F   T    T   F\n",
    "\tF F T\tF T  T   F T T   F    T   T\n",
    "\tF F F\tF F  F   F F F   F    T   F\n",
    "\t\n",
    "\n",
    "Can You Answer these? How about in python?      \n",
    "\n",
    "¬(p & q )    \n",
    "\n",
    "\n",
    "\n",
    "\n",
    "( p || q ) & ( ¬p || ¬q)\n"
   ]
  },
  {
   "cell_type": "markdown",
   "metadata": {},
   "source": [
    "# DIscuss python solutions for logic fun"
   ]
  },
  {
   "cell_type": "code",
   "execution_count": 1,
   "metadata": {},
   "outputs": [
    {
     "ename": "SyntaxError",
     "evalue": "invalid character in identifier (<ipython-input-1-4dedc3262b21>, line 4)",
     "output_type": "error",
     "traceback": [
      "\u001b[0;36m  File \u001b[0;32m\"<ipython-input-1-4dedc3262b21>\"\u001b[0;36m, line \u001b[0;32m4\u001b[0m\n\u001b[0;31m    if ( p ≠ True )\u001b[0m\n\u001b[0m           ^\u001b[0m\n\u001b[0;31mSyntaxError\u001b[0m\u001b[0;31m:\u001b[0m invalid character in identifier\n"
     ]
    }
   ],
   "source": [
    "\n",
    "    "
   ]
  },
  {
   "cell_type": "code",
   "execution_count": null,
   "metadata": {},
   "outputs": [],
   "source": []
  },
  {
   "cell_type": "markdown",
   "metadata": {},
   "source": [
    "# Notes from yesterday"
   ]
  },
  {
   "cell_type": "code",
   "execution_count": null,
   "metadata": {},
   "outputs": [],
   "source": [
    "first_adjective = input(\"enter an adjective\")\n",
    "second_adjective = input(\"enter and adjective\")\n",
    "first_noun = input(\"enter a noun\")\n",
    "first_verb = input(\"enter a verb\")\n",
    "second_noun = input(\"enter a noun\")\n",
    "third_noun = input(\"enter a noun\")\n",
    "day = input(\"enter a day\")\n",
    "person = input(\"enter a person\")\n",
    "second_verb = input(\"enter a verb\")\n",
    "weather = input(\"enter a weather\")\n",
    "crazy_event = input(\"enter a crazy event\")\n",
    "action_in_response = input(\"enter an action\")\n",
    "number = input(\"enter a number\")\n",
    "time_of_arrival = input(\"enter a time of arrival\")\n",
    "action = input(\"enter a action\")\n",
    "condition = input(\"enter a condition\")\n",
    "meeting_event = input(\"enter a meeting event\")\n",
    "\n",
    "mad_lib = f\"It was a {first_adjective}, cold November day. I woke up to the {second_adjective} smell of {first_noun} downstairs. I quickly got ready, grabbing my {second_noun} and ran downstairs to {first_verb} the {third_noun}. It was {day} and I was late! I rushed outside to see {person} at the bodega {second_verb}. I had no time for that and it was {weather} outside so I headed to the subway. On the train, I see {crazy_event} so I {action_in_response}. I finally get to my stop and leave the train. I'm {number} minutes {time_of_arrival} so I {action}. I get to the meeting {condition} only to find out that {meeting_event}\"\n",
    "\n",
    "print(mad_lib)`"
   ]
  },
  {
   "cell_type": "markdown",
   "metadata": {},
   "source": [
    "### bools"
   ]
  },
  {
   "cell_type": "code",
   "execution_count": null,
   "metadata": {},
   "outputs": [],
   "source": [
    "print(\"hello\") and print(\"hello\")"
   ]
  },
  {
   "cell_type": "code",
   "execution_count": 4,
   "metadata": {},
   "outputs": [
    {
     "name": "stdout",
     "output_type": "stream",
     "text": [
      "hello\n"
     ]
    }
   ],
   "source": [
    "print(\"hello\") and True"
   ]
  },
  {
   "cell_type": "code",
   "execution_count": null,
   "metadata": {},
   "outputs": [],
   "source": [
    "print(\"hello\") and False"
   ]
  },
  {
   "cell_type": "code",
   "execution_count": 5,
   "metadata": {},
   "outputs": [
    {
     "name": "stdout",
     "output_type": "stream",
     "text": [
      "hello\n"
     ]
    }
   ],
   "source": [
    "True and print(\"hello\")"
   ]
  },
  {
   "cell_type": "code",
   "execution_count": 6,
   "metadata": {},
   "outputs": [
    {
     "data": {
      "text/plain": [
       "False"
      ]
     },
     "execution_count": 6,
     "metadata": {},
     "output_type": "execute_result"
    }
   ],
   "source": [
    "False and print(\"hello\")"
   ]
  },
  {
   "cell_type": "code",
   "execution_count": null,
   "metadata": {},
   "outputs": [],
   "source": [
    "print(\"hello\") or print(\"goodbye\")"
   ]
  },
  {
   "cell_type": "code",
   "execution_count": null,
   "metadata": {},
   "outputs": [],
   "source": [
    "print(\"hello\") or True"
   ]
  },
  {
   "cell_type": "code",
   "execution_count": 1,
   "metadata": {},
   "outputs": [
    {
     "data": {
      "text/plain": [
       "True"
      ]
     },
     "execution_count": 1,
     "metadata": {},
     "output_type": "execute_result"
    }
   ],
   "source": [
    "True == 1"
   ]
  },
  {
   "cell_type": "code",
   "execution_count": null,
   "metadata": {},
   "outputs": [],
   "source": [
    "False == 0"
   ]
  },
  {
   "cell_type": "code",
   "execution_count": 2,
   "metadata": {},
   "outputs": [
    {
     "data": {
      "text/plain": [
       "False"
      ]
     },
     "execution_count": 2,
     "metadata": {},
     "output_type": "execute_result"
    }
   ],
   "source": [
    "True == 939"
   ]
  },
  {
   "cell_type": "code",
   "execution_count": 3,
   "metadata": {},
   "outputs": [
    {
     "data": {
      "text/plain": [
       "False"
      ]
     },
     "execution_count": 3,
     "metadata": {},
     "output_type": "execute_result"
    }
   ],
   "source": [
    "False == -323"
   ]
  },
  {
   "cell_type": "code",
   "execution_count": null,
   "metadata": {},
   "outputs": [],
   "source": [
    "bool(0), bool(0.00), bool(0j)"
   ]
  },
  {
   "cell_type": "code",
   "execution_count": null,
   "metadata": {},
   "outputs": [],
   "source": [
    "bool(None)"
   ]
  },
  {
   "cell_type": "code",
   "execution_count": null,
   "metadata": {},
   "outputs": [],
   "source": [
    "bool(()), bool([]), bool({})"
   ]
  },
  {
   "cell_type": "code",
   "execution_count": null,
   "metadata": {},
   "outputs": [],
   "source": [
    "class Example:\n",
    "    def __init__(self):\n",
    "        pass\n",
    "    def __bool__(self):\n",
    "        return False\n",
    "    def __len__(self):\n",
    "        return 0\n",
    "\n",
    "e = Example()\n",
    "    \n",
    "bool(e)"
   ]
  },
  {
   "cell_type": "markdown",
   "metadata": {},
   "source": [
    "# Ints"
   ]
  },
  {
   "cell_type": "code",
   "execution_count": null,
   "metadata": {},
   "outputs": [],
   "source": [
    "variable = 45"
   ]
  },
  {
   "cell_type": "code",
   "execution_count": null,
   "metadata": {},
   "outputs": [],
   "source": [
    "type(variable)"
   ]
  },
  {
   "cell_type": "markdown",
   "metadata": {},
   "source": [
    "# common math operations"
   ]
  },
  {
   "cell_type": "code",
   "execution_count": null,
   "metadata": {},
   "outputs": [],
   "source": [
    "variable = 10 + 10\n",
    "\n",
    "print(variable)"
   ]
  },
  {
   "cell_type": "code",
   "execution_count": null,
   "metadata": {},
   "outputs": [],
   "source": [
    "variable = 10 - 10\n",
    "\n",
    "print(variable)"
   ]
  },
  {
   "cell_type": "code",
   "execution_count": null,
   "metadata": {},
   "outputs": [],
   "source": [
    "variable = -10 + 10\n",
    "print(variable)"
   ]
  },
  {
   "cell_type": "code",
   "execution_count": null,
   "metadata": {},
   "outputs": [],
   "source": [
    "# some useful tricks\n",
    "\n",
    "# adding/subtracting an amount to a variable:\n",
    "variable += 5\n",
    "variable -= 5"
   ]
  },
  {
   "cell_type": "code",
   "execution_count": null,
   "metadata": {},
   "outputs": [],
   "source": [
    "# multiplication\n",
    "\n",
    "variable = 5 * 5\n",
    "\n",
    "# using exponents\n",
    "\n",
    "variable2 = 5 ** 5\n",
    "\n",
    "print(variable, variable2)"
   ]
  },
  {
   "cell_type": "markdown",
   "metadata": {},
   "source": [
    "# Examples using python as a calculator"
   ]
  },
  {
   "cell_type": "markdown",
   "metadata": {},
   "source": [
    "Say you had a company that ran projects with a budgeted amount of $1000 per project. Of that amount, you spend money for supplies and labor. Often, you don't use the full budget. Your boss asks you weekly to generate a list of the leftover funds. \n",
    "\n",
    "Let's use python to create a script that will allow us to enter the values and generate that list easily. "
   ]
  },
  {
   "cell_type": "code",
   "execution_count": null,
   "metadata": {},
   "outputs": [],
   "source": [
    "balance: int = 1000"
   ]
  },
  {
   "cell_type": "code",
   "execution_count": null,
   "metadata": {},
   "outputs": [],
   "source": [
    "sum(s)"
   ]
  },
  {
   "cell_type": "code",
   "execution_count": null,
   "metadata": {},
   "outputs": [],
   "source": []
  },
  {
   "cell_type": "markdown",
   "metadata": {},
   "source": [
    "# More complicated examples"
   ]
  },
  {
   "cell_type": "code",
   "execution_count": null,
   "metadata": {},
   "outputs": [],
   "source": [
    "# Floor division\n",
    "\n",
    "14 // 3 # discards fractional part"
   ]
  },
  {
   "cell_type": "code",
   "execution_count": null,
   "metadata": {},
   "outputs": [],
   "source": [
    "# Remainder operation\n",
    "\n",
    "14 % 3 # returns remainder"
   ]
  },
  {
   "cell_type": "code",
   "execution_count": null,
   "metadata": {},
   "outputs": [],
   "source": [
    "# putting that together:\n",
    "\n",
    "w = 17 // 3\n",
    "w"
   ]
  },
  {
   "cell_type": "code",
   "execution_count": null,
   "metadata": {},
   "outputs": [],
   "source": [
    "x = 17 % 3\n",
    "x"
   ]
  },
  {
   "cell_type": "code",
   "execution_count": null,
   "metadata": {},
   "outputs": [],
   "source": [
    "y = w, x\n",
    "y"
   ]
  },
  {
   "cell_type": "code",
   "execution_count": null,
   "metadata": {},
   "outputs": [],
   "source": [
    "w * 3 + x"
   ]
  },
  {
   "cell_type": "code",
   "execution_count": null,
   "metadata": {},
   "outputs": [],
   "source": [
    "# multiplication gets tricky"
   ]
  },
  {
   "cell_type": "code",
   "execution_count": null,
   "metadata": {},
   "outputs": [],
   "source": [
    "print(type(5))\n",
    "print(type(3))\n",
    "print(type(5/3))"
   ]
  },
  {
   "cell_type": "code",
   "execution_count": null,
   "metadata": {},
   "outputs": [],
   "source": [
    "type(4.)"
   ]
  },
  {
   "cell_type": "code",
   "execution_count": null,
   "metadata": {},
   "outputs": [],
   "source": [
    "22/7."
   ]
  },
  {
   "cell_type": "code",
   "execution_count": null,
   "metadata": {},
   "outputs": [],
   "source": [
    "import math\n",
    "math.pi.as_integer_ratio()"
   ]
  },
  {
   "cell_type": "code",
   "execution_count": null,
   "metadata": {},
   "outputs": [],
   "source": [
    "884279719003555/281474976710656"
   ]
  },
  {
   "cell_type": "markdown",
   "metadata": {},
   "source": [
    "# Floats\n",
    "***\n",
    "\n",
    "The float type in CPython uses a C double for storage. A float object’s value is stored in binary floating-point with a fixed precision (typically 53 bits) and Python uses C operations, which in turn rely on the hardware implementation in the processor, to perform floating-point operations. This means that as far as floating-point operations are concerned, Python behaves like many popular languages including C and Java.\n",
    "\n",
    "Floats:\n",
    "1. Sign bit\n",
    "2. Fractional part digits\n",
    "3. Exponent part digits\n",
    "\n",
    "\n",
    "\n",
    "1. bit for negative/postive\n",
    "2. bits to expand as follows:  \n",
    "$\n",
    "01101101 - 0*2^{-1} + 1*2^{-2} + 1*2^{-3} + 0*2^{-4} + 1*2^{-5} + 1*2^{-6} + 0*2^{-7} + 1*2^{-8} = 0.42578125\n",
    "$\n",
    "3. bits for exponent:\n",
    "$\n",
    "11000011 - 1*2^7 + 1*2^6 + 0*2^5 + 0*2^4 + 0*2^3 + 0*2^2 + 1*2^1 + 1*2^0 = 195\n",
    "$\n",
    "\n",
    "\n",
    "sign * fractional part ** exponent"
   ]
  },
  {
   "cell_type": "code",
   "execution_count": null,
   "metadata": {},
   "outputs": [],
   "source": [
    "0*2**-1 + 1*2**-2 + 1*2**-3 + 0*2**-4 + 1*2**-5 + 1*2**-6 + 0*2**-7 + 1*2**-8"
   ]
  },
  {
   "cell_type": "code",
   "execution_count": null,
   "metadata": {},
   "outputs": [],
   "source": [
    "sum([int(j) * 2 **-(i+1) for i, j in enumerate('01101101')])"
   ]
  },
  {
   "cell_type": "code",
   "execution_count": null,
   "metadata": {},
   "outputs": [],
   "source": [
    "1*2**7 + 1*2**6 + 0*2**5 + 0*2**4 + 0*2**3 + 0*2**2 + 1*2**1 + 1*2**0"
   ]
  },
  {
   "cell_type": "code",
   "execution_count": null,
   "metadata": {},
   "outputs": [],
   "source": [
    "sum([int(j) * 2 **(i) for i, j in enumerate('11000011')])"
   ]
  },
  {
   "cell_type": "markdown",
   "metadata": {},
   "source": [
    "1 2 3 4 5 6 7 8 9 10\n",
    "\n",
    "1.00 1.01 1.02 .. 1.99 2.00 99\n",
    "\n",
    "1.00000000000000000000000000000...\n",
    "2.000000000000000000000000000000000000000000000...\n",
    "1.0 ... 2.0"
   ]
  },
  {
   "cell_type": "code",
   "execution_count": null,
   "metadata": {},
   "outputs": [],
   "source": [
    "1/3."
   ]
  },
  {
   "cell_type": "code",
   "execution_count": null,
   "metadata": {},
   "outputs": [],
   "source": [
    "import math\n",
    "\n",
    "type(math.pi)"
   ]
  },
  {
   "cell_type": "code",
   "execution_count": null,
   "metadata": {},
   "outputs": [],
   "source": [
    "format(math.pi, '.12g')"
   ]
  },
  {
   "cell_type": "code",
   "execution_count": null,
   "metadata": {},
   "outputs": [],
   "source": [
    "format(math.pi, '.2f')"
   ]
  },
  {
   "cell_type": "code",
   "execution_count": 17,
   "metadata": {},
   "outputs": [
    {
     "data": {
      "text/plain": [
       "'0.10000000000000001'"
      ]
     },
     "execution_count": 17,
     "metadata": {},
     "output_type": "execute_result"
    }
   ],
   "source": [
    "format(0.1, '.17f')"
   ]
  },
  {
   "cell_type": "code",
   "execution_count": 16,
   "metadata": {},
   "outputs": [
    {
     "data": {
      "text/plain": [
       "False"
      ]
     },
     "execution_count": 16,
     "metadata": {},
     "output_type": "execute_result"
    }
   ],
   "source": [
    "0.1 + 0.1 + 0.1 == 0.3"
   ]
  },
  {
   "cell_type": "code",
   "execution_count": 12,
   "metadata": {},
   "outputs": [
    {
     "data": {
      "text/plain": [
       "True"
      ]
     },
     "execution_count": 12,
     "metadata": {},
     "output_type": "execute_result"
    }
   ],
   "source": [
    "round(0.1 + 0.1 + 0.1, 10) == round(0.3, 10)"
   ]
  },
  {
   "cell_type": "code",
   "execution_count": 13,
   "metadata": {},
   "outputs": [
    {
     "data": {
      "text/plain": [
       "(3602879701896397, 36028797018963968)"
      ]
     },
     "execution_count": 13,
     "metadata": {},
     "output_type": "execute_result"
    }
   ],
   "source": [
    "(0.1).as_integer_ratio()"
   ]
  },
  {
   "cell_type": "code",
   "execution_count": null,
   "metadata": {},
   "outputs": [],
   "source": [
    "from decimal import getcontext, Decimal\n",
    "getcontext().prec = 6\n",
    "Decimal(1)/Decimal(7)"
   ]
  },
  {
   "cell_type": "code",
   "execution_count": null,
   "metadata": {},
   "outputs": [],
   "source": [
    "getcontext().prec = 28\n",
    "Decimal(1)/Decimal(7)"
   ]
  },
  {
   "cell_type": "code",
   "execution_count": null,
   "metadata": {},
   "outputs": [],
   "source": [
    "getcontext().prec = 2\n",
    "Decimal(1)/Decimal(7)"
   ]
  },
  {
   "cell_type": "code",
   "execution_count": 14,
   "metadata": {},
   "outputs": [
    {
     "data": {
      "text/plain": [
       "Fraction(1, 4)"
      ]
     },
     "execution_count": 14,
     "metadata": {},
     "output_type": "execute_result"
    }
   ],
   "source": [
    "from fractions import Fraction\n",
    "Fraction.from_float(0.25)"
   ]
  },
  {
   "cell_type": "code",
   "execution_count": 15,
   "metadata": {},
   "outputs": [
    {
     "data": {
      "text/plain": [
       "Fraction(3002369727582815, 9007199254740992)"
      ]
     },
     "execution_count": 15,
     "metadata": {},
     "output_type": "execute_result"
    }
   ],
   "source": [
    "Fraction.from_float(0.33333)"
   ]
  },
  {
   "cell_type": "markdown",
   "metadata": {},
   "source": [
    "# More Python\n",
    "\n",
    "## Useful Built In Functions\n",
    "\n",
    "|               |             |              |              |                |\n",
    "|---------------|-------------|--------------|--------------|----------------|\n",
    "| abs()         | delattr()   | hash()       | memoryview() | set()          |\n",
    "| all()         | dict()      | help()       | min()        | setattr()      |\n",
    "| any()         | dir()       | hex()        | next()       | slice()        |\n",
    "| ascii()       | divmod()    | id()         | object()     | sorted()       |\n",
    "| bin()         | enumerate() | input()      | oct()        | staticmethod() |\n",
    "| bool()        | eval()      | int()        | open()       | str()          |\n",
    "| breakpoint()  | exec()      | isinstance() | ord()        | sum()          |\n",
    "| bytearray()   | filter()    | issubclass() | pow()        | super()        |\n",
    "| bytes()       | float()     | iter()       | print()      | tuple()        |\n",
    "| callable()    | format()    | len()        | property()   | type()         |\n",
    "| chr()         | frozenset() | list()       | range()      | vars()         |\n",
    "| classmethod() | getattr()   | locals()     | repr()       | zip()          |\n",
    "| compile()     | globals()   | map()        | reversed()   | \\__import__()   |\n",
    "| complex()     | hasattr()   | max()        | round()      |                |"
   ]
  },
  {
   "cell_type": "markdown",
   "metadata": {},
   "source": [
    "### `abs(x)` -> returns absolute value of x   \n"
   ]
  },
  {
   "cell_type": "code",
   "execution_count": null,
   "metadata": {},
   "outputs": [],
   "source": [
    "abs(10)"
   ]
  },
  {
   "cell_type": "code",
   "execution_count": null,
   "metadata": {},
   "outputs": [],
   "source": [
    "abs(-10)"
   ]
  },
  {
   "cell_type": "code",
   "execution_count": null,
   "metadata": {},
   "outputs": [],
   "source": [
    "abs(0)"
   ]
  },
  {
   "cell_type": "markdown",
   "metadata": {},
   "source": [
    "### `bool(x)` -> casts x as bool "
   ]
  },
  {
   "cell_type": "code",
   "execution_count": 7,
   "metadata": {},
   "outputs": [
    {
     "data": {
      "text/plain": [
       "(False, False, False)"
      ]
     },
     "execution_count": 7,
     "metadata": {},
     "output_type": "execute_result"
    }
   ],
   "source": [
    "bool(0), bool(\"\"), bool(None)"
   ]
  },
  {
   "cell_type": "code",
   "execution_count": 9,
   "metadata": {},
   "outputs": [
    {
     "data": {
      "text/plain": [
       "(True, True)"
      ]
     },
     "execution_count": 9,
     "metadata": {},
     "output_type": "execute_result"
    }
   ],
   "source": [
    "bool(1), bool(24)"
   ]
  },
  {
   "cell_type": "code",
   "execution_count": 8,
   "metadata": {},
   "outputs": [
    {
     "data": {
      "text/plain": [
       "(True, True, True)"
      ]
     },
     "execution_count": 8,
     "metadata": {},
     "output_type": "execute_result"
    }
   ],
   "source": [
    "bool(True), bool(4), bool(\"s\")"
   ]
  },
  {
   "cell_type": "markdown",
   "metadata": {},
   "source": [
    "### `callable(x)` -> returns True if x is a function  \n"
   ]
  },
  {
   "cell_type": "code",
   "execution_count": null,
   "metadata": {},
   "outputs": [],
   "source": [
    "callable(print)"
   ]
  },
  {
   "cell_type": "code",
   "execution_count": null,
   "metadata": {},
   "outputs": [],
   "source": [
    "callable(bool)"
   ]
  },
  {
   "cell_type": "code",
   "execution_count": null,
   "metadata": {},
   "outputs": [],
   "source": [
    "s = \"string\"\n",
    "callable(s)"
   ]
  },
  {
   "cell_type": "markdown",
   "metadata": {},
   "source": [
    "### `dict()` -> returns dict  "
   ]
  },
  {
   "cell_type": "code",
   "execution_count": null,
   "metadata": {},
   "outputs": [],
   "source": [
    "d = dict()\n",
    "type(d)"
   ]
  },
  {
   "cell_type": "markdown",
   "metadata": {},
   "source": [
    "### `dir(x)` -> returns attributes and methods of object x  "
   ]
  },
  {
   "cell_type": "code",
   "execution_count": null,
   "metadata": {},
   "outputs": [],
   "source": [
    "dir()"
   ]
  },
  {
   "cell_type": "code",
   "execution_count": null,
   "metadata": {},
   "outputs": [],
   "source": [
    "dir(help)"
   ]
  },
  {
   "cell_type": "markdown",
   "metadata": {},
   "source": [
    " ### `float(x)` -> casts x to a float  "
   ]
  },
  {
   "cell_type": "code",
   "execution_count": null,
   "metadata": {},
   "outputs": [],
   "source": [
    "float(1)"
   ]
  },
  {
   "cell_type": "code",
   "execution_count": 18,
   "metadata": {},
   "outputs": [
    {
     "data": {
      "text/plain": [
       "1.0"
      ]
     },
     "execution_count": 18,
     "metadata": {},
     "output_type": "execute_result"
    }
   ],
   "source": [
    "float(\"1\")"
   ]
  },
  {
   "cell_type": "code",
   "execution_count": 19,
   "metadata": {},
   "outputs": [
    {
     "ename": "ValueError",
     "evalue": "could not convert string to float: 's'",
     "output_type": "error",
     "traceback": [
      "\u001b[0;31m---------------------------------------------------------------------------\u001b[0m",
      "\u001b[0;31mValueError\u001b[0m                                Traceback (most recent call last)",
      "\u001b[0;32m<ipython-input-19-817e6ea32519>\u001b[0m in \u001b[0;36m<module>\u001b[0;34m\u001b[0m\n\u001b[0;32m----> 1\u001b[0;31m \u001b[0mfloat\u001b[0m\u001b[0;34m(\u001b[0m\u001b[0;34m\"s\"\u001b[0m\u001b[0;34m)\u001b[0m\u001b[0;34m\u001b[0m\u001b[0;34m\u001b[0m\u001b[0m\n\u001b[0m",
      "\u001b[0;31mValueError\u001b[0m: could not convert string to float: 's'"
     ]
    }
   ],
   "source": [
    "float(\"s\")"
   ]
  },
  {
   "cell_type": "markdown",
   "metadata": {},
   "source": [
    "\n",
    "### `hex(x)` -> casts int x as a hex   \n"
   ]
  },
  {
   "cell_type": "code",
   "execution_count": null,
   "metadata": {},
   "outputs": [],
   "source": [
    "hex(0)"
   ]
  },
  {
   "cell_type": "code",
   "execution_count": null,
   "metadata": {},
   "outputs": [],
   "source": [
    "hex(0.0)"
   ]
  },
  {
   "cell_type": "code",
   "execution_count": null,
   "metadata": {},
   "outputs": [],
   "source": [
    "hex(\"0\")"
   ]
  },
  {
   "cell_type": "markdown",
   "metadata": {},
   "source": [
    "### `id(x)` -> returns id for object x  \n"
   ]
  },
  {
   "cell_type": "code",
   "execution_count": null,
   "metadata": {},
   "outputs": [],
   "source": [
    "s = \"string\"\n",
    "d = \"string\"\n",
    "e = \"strin\"\n",
    "f = e[:]\n",
    "g = s[:-1]\n",
    "h = d[:-1]\n",
    "print(f)\n",
    "id(s), id(d), id(e), id(f), id(g), id(h)"
   ]
  },
  {
   "cell_type": "code",
   "execution_count": null,
   "metadata": {},
   "outputs": [],
   "source": [
    "s is d"
   ]
  },
  {
   "cell_type": "code",
   "execution_count": null,
   "metadata": {},
   "outputs": [],
   "source": [
    "s == d"
   ]
  },
  {
   "cell_type": "code",
   "execution_count": null,
   "metadata": {},
   "outputs": [],
   "source": [
    "e == g"
   ]
  },
  {
   "cell_type": "code",
   "execution_count": null,
   "metadata": {},
   "outputs": [],
   "source": [
    "e is g"
   ]
  },
  {
   "cell_type": "code",
   "execution_count": null,
   "metadata": {},
   "outputs": [],
   "source": [
    "s = [4, 5]\n",
    "d = [4, 5]\n",
    "id(s), id(d)"
   ]
  },
  {
   "cell_type": "code",
   "execution_count": null,
   "metadata": {},
   "outputs": [],
   "source": [
    "s is d"
   ]
  },
  {
   "cell_type": "code",
   "execution_count": null,
   "metadata": {},
   "outputs": [],
   "source": [
    "s == d"
   ]
  },
  {
   "cell_type": "markdown",
   "metadata": {},
   "source": [
    "### `input()`  -> returns user input"
   ]
  },
  {
   "cell_type": "code",
   "execution_count": null,
   "metadata": {},
   "outputs": [],
   "source": [
    "input()"
   ]
  },
  {
   "cell_type": "code",
   "execution_count": null,
   "metadata": {},
   "outputs": [],
   "source": [
    "s = input()"
   ]
  },
  {
   "cell_type": "code",
   "execution_count": null,
   "metadata": {},
   "outputs": [],
   "source": [
    "s"
   ]
  },
  {
   "cell_type": "markdown",
   "metadata": {},
   "source": [
    "### `int(x)` -> casts x as int  "
   ]
  },
  {
   "cell_type": "code",
   "execution_count": null,
   "metadata": {},
   "outputs": [],
   "source": [
    "int(0)"
   ]
  },
  {
   "cell_type": "code",
   "execution_count": null,
   "metadata": {},
   "outputs": [],
   "source": [
    "int(\"1\")"
   ]
  },
  {
   "cell_type": "code",
   "execution_count": null,
   "metadata": {},
   "outputs": [],
   "source": [
    "int(True)"
   ]
  },
  {
   "cell_type": "markdown",
   "metadata": {},
   "source": [
    "### `len(x)` -> returns count of x  "
   ]
  },
  {
   "cell_type": "code",
   "execution_count": null,
   "metadata": {},
   "outputs": [],
   "source": [
    "len(\"string\")"
   ]
  },
  {
   "cell_type": "code",
   "execution_count": null,
   "metadata": {},
   "outputs": [],
   "source": [
    "len([1,2,3,4])"
   ]
  },
  {
   "cell_type": "code",
   "execution_count": null,
   "metadata": {},
   "outputs": [],
   "source": [
    "len((1,2,3,4))"
   ]
  },
  {
   "cell_type": "code",
   "execution_count": null,
   "metadata": {},
   "outputs": [],
   "source": [
    "len({'a':1, 'b':2})"
   ]
  },
  {
   "cell_type": "markdown",
   "metadata": {},
   "source": [
    "### `list()`  -> returns list"
   ]
  },
  {
   "cell_type": "code",
   "execution_count": null,
   "metadata": {},
   "outputs": [],
   "source": [
    "l = list()"
   ]
  },
  {
   "cell_type": "code",
   "execution_count": null,
   "metadata": {},
   "outputs": [],
   "source": [
    "l.append(4)"
   ]
  },
  {
   "cell_type": "code",
   "execution_count": null,
   "metadata": {},
   "outputs": [],
   "source": [
    "l"
   ]
  },
  {
   "cell_type": "markdown",
   "metadata": {},
   "source": [
    "### `pow(x, y)` -> returns x to the y power  "
   ]
  },
  {
   "cell_type": "code",
   "execution_count": null,
   "metadata": {},
   "outputs": [],
   "source": [
    "pow(2,4)"
   ]
  },
  {
   "cell_type": "code",
   "execution_count": null,
   "metadata": {},
   "outputs": [],
   "source": [
    "pow(25,2)"
   ]
  },
  {
   "cell_type": "markdown",
   "metadata": {},
   "source": [
    "### `print()`  -> prints argument"
   ]
  },
  {
   "cell_type": "code",
   "execution_count": null,
   "metadata": {},
   "outputs": [],
   "source": [
    "print(\"hello\")"
   ]
  },
  {
   "cell_type": "code",
   "execution_count": null,
   "metadata": {},
   "outputs": [],
   "source": [
    "print(25)"
   ]
  },
  {
   "cell_type": "code",
   "execution_count": null,
   "metadata": {},
   "outputs": [],
   "source": [
    "print(True)"
   ]
  },
  {
   "cell_type": "markdown",
   "metadata": {},
   "source": [
    "### `range()`  returns iterable of sequential values"
   ]
  },
  {
   "cell_type": "code",
   "execution_count": null,
   "metadata": {},
   "outputs": [],
   "source": [
    "range(100)"
   ]
  },
  {
   "cell_type": "code",
   "execution_count": null,
   "metadata": {},
   "outputs": [],
   "source": [
    "range(5,10)"
   ]
  },
  {
   "cell_type": "code",
   "execution_count": 4,
   "metadata": {},
   "outputs": [
    {
     "data": {
      "text/plain": [
       "[0, 1, 2, 3, 4, 5, 6, 7, 8, 9]"
      ]
     },
     "execution_count": 4,
     "metadata": {},
     "output_type": "execute_result"
    }
   ],
   "source": [
    "[i for i in range(10)]"
   ]
  },
  {
   "cell_type": "markdown",
   "metadata": {},
   "source": [
    "### `round(x)` -> returns x rounded to nearest"
   ]
  },
  {
   "cell_type": "code",
   "execution_count": null,
   "metadata": {},
   "outputs": [],
   "source": [
    "round(132320.0324534521, 10)"
   ]
  },
  {
   "cell_type": "markdown",
   "metadata": {},
   "source": [
    "### `set()` "
   ]
  },
  {
   "cell_type": "code",
   "execution_count": null,
   "metadata": {},
   "outputs": [],
   "source": [
    "s = set()"
   ]
  },
  {
   "cell_type": "code",
   "execution_count": null,
   "metadata": {},
   "outputs": [],
   "source": [
    "s.add(4)"
   ]
  },
  {
   "cell_type": "code",
   "execution_count": null,
   "metadata": {},
   "outputs": [],
   "source": [
    "s"
   ]
  },
  {
   "cell_type": "markdown",
   "metadata": {},
   "source": [
    "### `str(x)`  -> casts x as string"
   ]
  },
  {
   "cell_type": "code",
   "execution_count": null,
   "metadata": {},
   "outputs": [],
   "source": [
    "str(718)"
   ]
  },
  {
   "cell_type": "code",
   "execution_count": null,
   "metadata": {},
   "outputs": [],
   "source": [
    "str(True)"
   ]
  },
  {
   "cell_type": "code",
   "execution_count": null,
   "metadata": {},
   "outputs": [],
   "source": [
    "str([2,3,4,5])"
   ]
  },
  {
   "cell_type": "code",
   "execution_count": null,
   "metadata": {},
   "outputs": [],
   "source": [
    "t"
   ]
  },
  {
   "cell_type": "markdown",
   "metadata": {},
   "source": [
    "### `type()`  "
   ]
  },
  {
   "cell_type": "code",
   "execution_count": null,
   "metadata": {},
   "outputs": [],
   "source": [
    "type(\"string\")"
   ]
  },
  {
   "cell_type": "markdown",
   "metadata": {},
   "source": [
    "### Dunder methods"
   ]
  },
  {
   "cell_type": "code",
   "execution_count": null,
   "metadata": {},
   "outputs": [],
   "source": [
    "s = str()\n",
    "[i for i in dir(s) if i.endswith('_')]"
   ]
  },
  {
   "cell_type": "code",
   "execution_count": null,
   "metadata": {},
   "outputs": [],
   "source": [
    "print(s.__doc__)"
   ]
  },
  {
   "cell_type": "code",
   "execution_count": null,
   "metadata": {},
   "outputs": [],
   "source": [
    "print(s.__str__)"
   ]
  },
  {
   "cell_type": "code",
   "execution_count": null,
   "metadata": {},
   "outputs": [],
   "source": [
    "print(s.__repr__)"
   ]
  },
  {
   "cell_type": "code",
   "execution_count": null,
   "metadata": {},
   "outputs": [],
   "source": [
    "print(s.__len__)"
   ]
  },
  {
   "cell_type": "code",
   "execution_count": null,
   "metadata": {},
   "outputs": [],
   "source": [
    "print(s.__class__)"
   ]
  },
  {
   "cell_type": "code",
   "execution_count": null,
   "metadata": {},
   "outputs": [],
   "source": [
    "print(s.__dir__)"
   ]
  },
  {
   "cell_type": "code",
   "execution_count": null,
   "metadata": {},
   "outputs": [],
   "source": [
    "print(s.__init__)"
   ]
  },
  {
   "cell_type": "code",
   "execution_count": null,
   "metadata": {
    "scrolled": true
   },
   "outputs": [],
   "source": [
    "bool.__doc__"
   ]
  },
  {
   "cell_type": "markdown",
   "metadata": {},
   "source": [
    "# Built In Exceptions"
   ]
  },
  {
   "cell_type": "code",
   "execution_count": null,
   "metadata": {},
   "outputs": [],
   "source": [
    "\"123\"[9]"
   ]
  },
  {
   "cell_type": "code",
   "execution_count": null,
   "metadata": {},
   "outputs": [],
   "source": [
    "try:\n",
    "    \"123\"[9]\n",
    "except Exception as e:\n",
    "    print(e)"
   ]
  },
  {
   "cell_type": "code",
   "execution_count": null,
   "metadata": {},
   "outputs": [],
   "source": [
    "raise Exception"
   ]
  },
  {
   "cell_type": "code",
   "execution_count": null,
   "metadata": {},
   "outputs": [],
   "source": [
    "type(Exception)"
   ]
  },
  {
   "cell_type": "markdown",
   "metadata": {},
   "source": [
    "# Python Documentation"
   ]
  },
  {
   "cell_type": "code",
   "execution_count": null,
   "metadata": {
    "scrolled": true
   },
   "outputs": [],
   "source": [
    "help()"
   ]
  },
  {
   "cell_type": "markdown",
   "metadata": {},
   "source": [
    "<div style=\"background: #000;\n",
    "            color: #FFF;\n",
    "            margin: 0px;\n",
    "                padding: 10px 0px 20px 0px;\n",
    "            text-align: center; \n",
    "                \">\n",
    "    <h1>Extended Lab</h1>\n",
    "</div>\n"
   ]
  },
  {
   "cell_type": "markdown",
   "metadata": {},
   "source": [
    "### Question 1: \n",
    "\n",
    "Explain what data types are in your own words."
   ]
  },
  {
   "cell_type": "markdown",
   "metadata": {},
   "source": [
    "Data types are used to organize and compile information with a dataset. It allows to make procedures easier for programmers by using quick handed methods that can compare, represent a value, or be numerically represented. "
   ]
  },
  {
   "cell_type": "markdown",
   "metadata": {},
   "source": [
    "## Question 2:\n",
    "\n",
    "In your own words, explain what a float is and why sometimes it gives an incorrect value."
   ]
  },
  {
   "cell_type": "markdown",
   "metadata": {},
   "source": [
    " A float is an overall set of whole numbers, compared to real numbers it does not contain fractions, but it seperates the number from its fractional part. Floats often give an incorrect value because of the round- off issue, it has after the decimal."
   ]
  },
  {
   "cell_type": "markdown",
   "metadata": {},
   "source": [
    "### Exercise 1:\n",
    "\n",
    "Store your first name, in lowercase, in a variable.\n",
    "Using that one variable, print your name in lowercase, Titlecase, and UPPERCASE.\n"
   ]
  },
  {
   "cell_type": "code",
   "execution_count": 27,
   "metadata": {},
   "outputs": [
    {
     "name": "stdout",
     "output_type": "stream",
     "text": [
      "jessica\n",
      "JESSICA\n",
      "Jessica\n"
     ]
    }
   ],
   "source": [
    "name = \"jessica\" \n",
    "print (name.lower())\n",
    "print (name.upper())\n",
    "print (name.title())\n"
   ]
  },
  {
   "cell_type": "markdown",
   "metadata": {},
   "source": [
    "### Exercise 2:\n",
    "\n",
    "Find a quote that you like. Store the quote in a variable, with an appropriate introduction such as \"Ken Thompson once said, 'One of my most productive days was throwing away 1000 lines of code'\". Print the quote 1000 times."
   ]
  },
  {
   "cell_type": "code",
   "execution_count": 28,
   "metadata": {},
   "outputs": [
    {
     "name": "stdout",
     "output_type": "stream",
     "text": [
      "Gary Zuckav once said, Ask and you shall recieve is the rule, but you must learn how to ask and how to recieve \n",
      "Gary Zuckav once said, Ask and you shall recieve is the rule, but you must learn how to ask and how to recieve \n",
      "Gary Zuckav once said, Ask and you shall recieve is the rule, but you must learn how to ask and how to recieve \n",
      "Gary Zuckav once said, Ask and you shall recieve is the rule, but you must learn how to ask and how to recieve \n",
      "Gary Zuckav once said, Ask and you shall recieve is the rule, but you must learn how to ask and how to recieve \n",
      "Gary Zuckav once said, Ask and you shall recieve is the rule, but you must learn how to ask and how to recieve \n",
      "Gary Zuckav once said, Ask and you shall recieve is the rule, but you must learn how to ask and how to recieve \n",
      "Gary Zuckav once said, Ask and you shall recieve is the rule, but you must learn how to ask and how to recieve \n",
      "Gary Zuckav once said, Ask and you shall recieve is the rule, but you must learn how to ask and how to recieve \n",
      "Gary Zuckav once said, Ask and you shall recieve is the rule, but you must learn how to ask and how to recieve \n",
      "Gary Zuckav once said, Ask and you shall recieve is the rule, but you must learn how to ask and how to recieve \n",
      "Gary Zuckav once said, Ask and you shall recieve is the rule, but you must learn how to ask and how to recieve \n",
      "Gary Zuckav once said, Ask and you shall recieve is the rule, but you must learn how to ask and how to recieve \n",
      "Gary Zuckav once said, Ask and you shall recieve is the rule, but you must learn how to ask and how to recieve \n",
      "Gary Zuckav once said, Ask and you shall recieve is the rule, but you must learn how to ask and how to recieve \n",
      "Gary Zuckav once said, Ask and you shall recieve is the rule, but you must learn how to ask and how to recieve \n",
      "Gary Zuckav once said, Ask and you shall recieve is the rule, but you must learn how to ask and how to recieve \n",
      "Gary Zuckav once said, Ask and you shall recieve is the rule, but you must learn how to ask and how to recieve \n",
      "Gary Zuckav once said, Ask and you shall recieve is the rule, but you must learn how to ask and how to recieve \n",
      "Gary Zuckav once said, Ask and you shall recieve is the rule, but you must learn how to ask and how to recieve \n",
      "Gary Zuckav once said, Ask and you shall recieve is the rule, but you must learn how to ask and how to recieve \n",
      "Gary Zuckav once said, Ask and you shall recieve is the rule, but you must learn how to ask and how to recieve \n",
      "Gary Zuckav once said, Ask and you shall recieve is the rule, but you must learn how to ask and how to recieve \n",
      "Gary Zuckav once said, Ask and you shall recieve is the rule, but you must learn how to ask and how to recieve \n",
      "Gary Zuckav once said, Ask and you shall recieve is the rule, but you must learn how to ask and how to recieve \n",
      "Gary Zuckav once said, Ask and you shall recieve is the rule, but you must learn how to ask and how to recieve \n",
      "Gary Zuckav once said, Ask and you shall recieve is the rule, but you must learn how to ask and how to recieve \n",
      "Gary Zuckav once said, Ask and you shall recieve is the rule, but you must learn how to ask and how to recieve \n",
      "Gary Zuckav once said, Ask and you shall recieve is the rule, but you must learn how to ask and how to recieve \n",
      "Gary Zuckav once said, Ask and you shall recieve is the rule, but you must learn how to ask and how to recieve \n",
      "Gary Zuckav once said, Ask and you shall recieve is the rule, but you must learn how to ask and how to recieve \n",
      "Gary Zuckav once said, Ask and you shall recieve is the rule, but you must learn how to ask and how to recieve \n",
      "Gary Zuckav once said, Ask and you shall recieve is the rule, but you must learn how to ask and how to recieve \n",
      "Gary Zuckav once said, Ask and you shall recieve is the rule, but you must learn how to ask and how to recieve \n",
      "Gary Zuckav once said, Ask and you shall recieve is the rule, but you must learn how to ask and how to recieve \n",
      "Gary Zuckav once said, Ask and you shall recieve is the rule, but you must learn how to ask and how to recieve \n",
      "Gary Zuckav once said, Ask and you shall recieve is the rule, but you must learn how to ask and how to recieve \n",
      "Gary Zuckav once said, Ask and you shall recieve is the rule, but you must learn how to ask and how to recieve \n",
      "Gary Zuckav once said, Ask and you shall recieve is the rule, but you must learn how to ask and how to recieve \n",
      "Gary Zuckav once said, Ask and you shall recieve is the rule, but you must learn how to ask and how to recieve \n",
      "Gary Zuckav once said, Ask and you shall recieve is the rule, but you must learn how to ask and how to recieve \n",
      "Gary Zuckav once said, Ask and you shall recieve is the rule, but you must learn how to ask and how to recieve \n",
      "Gary Zuckav once said, Ask and you shall recieve is the rule, but you must learn how to ask and how to recieve \n",
      "Gary Zuckav once said, Ask and you shall recieve is the rule, but you must learn how to ask and how to recieve \n",
      "Gary Zuckav once said, Ask and you shall recieve is the rule, but you must learn how to ask and how to recieve \n",
      "Gary Zuckav once said, Ask and you shall recieve is the rule, but you must learn how to ask and how to recieve \n",
      "Gary Zuckav once said, Ask and you shall recieve is the rule, but you must learn how to ask and how to recieve \n",
      "Gary Zuckav once said, Ask and you shall recieve is the rule, but you must learn how to ask and how to recieve \n",
      "Gary Zuckav once said, Ask and you shall recieve is the rule, but you must learn how to ask and how to recieve \n",
      "Gary Zuckav once said, Ask and you shall recieve is the rule, but you must learn how to ask and how to recieve \n",
      "Gary Zuckav once said, Ask and you shall recieve is the rule, but you must learn how to ask and how to recieve \n",
      "Gary Zuckav once said, Ask and you shall recieve is the rule, but you must learn how to ask and how to recieve \n",
      "Gary Zuckav once said, Ask and you shall recieve is the rule, but you must learn how to ask and how to recieve \n",
      "Gary Zuckav once said, Ask and you shall recieve is the rule, but you must learn how to ask and how to recieve \n",
      "Gary Zuckav once said, Ask and you shall recieve is the rule, but you must learn how to ask and how to recieve \n",
      "Gary Zuckav once said, Ask and you shall recieve is the rule, but you must learn how to ask and how to recieve \n",
      "Gary Zuckav once said, Ask and you shall recieve is the rule, but you must learn how to ask and how to recieve \n",
      "Gary Zuckav once said, Ask and you shall recieve is the rule, but you must learn how to ask and how to recieve \n",
      "Gary Zuckav once said, Ask and you shall recieve is the rule, but you must learn how to ask and how to recieve \n",
      "Gary Zuckav once said, Ask and you shall recieve is the rule, but you must learn how to ask and how to recieve \n",
      "Gary Zuckav once said, Ask and you shall recieve is the rule, but you must learn how to ask and how to recieve \n",
      "Gary Zuckav once said, Ask and you shall recieve is the rule, but you must learn how to ask and how to recieve \n",
      "Gary Zuckav once said, Ask and you shall recieve is the rule, but you must learn how to ask and how to recieve \n",
      "Gary Zuckav once said, Ask and you shall recieve is the rule, but you must learn how to ask and how to recieve \n",
      "Gary Zuckav once said, Ask and you shall recieve is the rule, but you must learn how to ask and how to recieve \n",
      "Gary Zuckav once said, Ask and you shall recieve is the rule, but you must learn how to ask and how to recieve \n",
      "Gary Zuckav once said, Ask and you shall recieve is the rule, but you must learn how to ask and how to recieve \n",
      "Gary Zuckav once said, Ask and you shall recieve is the rule, but you must learn how to ask and how to recieve \n",
      "Gary Zuckav once said, Ask and you shall recieve is the rule, but you must learn how to ask and how to recieve \n",
      "Gary Zuckav once said, Ask and you shall recieve is the rule, but you must learn how to ask and how to recieve \n",
      "Gary Zuckav once said, Ask and you shall recieve is the rule, but you must learn how to ask and how to recieve \n",
      "Gary Zuckav once said, Ask and you shall recieve is the rule, but you must learn how to ask and how to recieve \n",
      "Gary Zuckav once said, Ask and you shall recieve is the rule, but you must learn how to ask and how to recieve \n",
      "Gary Zuckav once said, Ask and you shall recieve is the rule, but you must learn how to ask and how to recieve \n",
      "Gary Zuckav once said, Ask and you shall recieve is the rule, but you must learn how to ask and how to recieve \n",
      "Gary Zuckav once said, Ask and you shall recieve is the rule, but you must learn how to ask and how to recieve \n",
      "Gary Zuckav once said, Ask and you shall recieve is the rule, but you must learn how to ask and how to recieve \n",
      "Gary Zuckav once said, Ask and you shall recieve is the rule, but you must learn how to ask and how to recieve \n",
      "Gary Zuckav once said, Ask and you shall recieve is the rule, but you must learn how to ask and how to recieve \n",
      "Gary Zuckav once said, Ask and you shall recieve is the rule, but you must learn how to ask and how to recieve \n",
      "Gary Zuckav once said, Ask and you shall recieve is the rule, but you must learn how to ask and how to recieve \n",
      "Gary Zuckav once said, Ask and you shall recieve is the rule, but you must learn how to ask and how to recieve \n",
      "Gary Zuckav once said, Ask and you shall recieve is the rule, but you must learn how to ask and how to recieve \n",
      "Gary Zuckav once said, Ask and you shall recieve is the rule, but you must learn how to ask and how to recieve \n",
      "Gary Zuckav once said, Ask and you shall recieve is the rule, but you must learn how to ask and how to recieve \n",
      "Gary Zuckav once said, Ask and you shall recieve is the rule, but you must learn how to ask and how to recieve \n",
      "Gary Zuckav once said, Ask and you shall recieve is the rule, but you must learn how to ask and how to recieve \n",
      "Gary Zuckav once said, Ask and you shall recieve is the rule, but you must learn how to ask and how to recieve \n",
      "Gary Zuckav once said, Ask and you shall recieve is the rule, but you must learn how to ask and how to recieve \n",
      "Gary Zuckav once said, Ask and you shall recieve is the rule, but you must learn how to ask and how to recieve \n",
      "Gary Zuckav once said, Ask and you shall recieve is the rule, but you must learn how to ask and how to recieve \n",
      "Gary Zuckav once said, Ask and you shall recieve is the rule, but you must learn how to ask and how to recieve \n",
      "Gary Zuckav once said, Ask and you shall recieve is the rule, but you must learn how to ask and how to recieve \n",
      "Gary Zuckav once said, Ask and you shall recieve is the rule, but you must learn how to ask and how to recieve \n",
      "Gary Zuckav once said, Ask and you shall recieve is the rule, but you must learn how to ask and how to recieve \n",
      "Gary Zuckav once said, Ask and you shall recieve is the rule, but you must learn how to ask and how to recieve \n",
      "Gary Zuckav once said, Ask and you shall recieve is the rule, but you must learn how to ask and how to recieve \n",
      "Gary Zuckav once said, Ask and you shall recieve is the rule, but you must learn how to ask and how to recieve \n",
      "Gary Zuckav once said, Ask and you shall recieve is the rule, but you must learn how to ask and how to recieve \n",
      "Gary Zuckav once said, Ask and you shall recieve is the rule, but you must learn how to ask and how to recieve \n"
     ]
    }
   ],
   "source": [
    "quote = \"Gary Zuckav once said, Ask and you shall recieve is the rule, but you must learn how to ask and how to recieve \"\n",
    "for i in range(1000):\n",
    "    print(quote)\n",
    "    "
   ]
  },
  {
   "cell_type": "markdown",
   "metadata": {},
   "source": [
    "##### Exercise 3:\n",
    "\n",
    "Use python string operations and methods to use the following variables to print this:\n",
    "\n",
    "    \"hello world\""
   ]
  },
  {
   "cell_type": "markdown",
   "metadata": {},
   "source": [
    "message_1 = \"hELlo\"\n",
    "message_2 = \"                              wor\"\n",
    "message_3 = \"wbdaloqteldndyrcggzf\""
   ]
  },
  {
   "cell_type": "code",
   "execution_count": 43,
   "metadata": {},
   "outputs": [
    {
     "name": "stdout",
     "output_type": "stream",
     "text": [
      "hello\n",
      "wor\n",
      "ld\n",
      "hello world\n"
     ]
    }
   ],
   "source": [
    "message_1 = \"hELlo\"\n",
    "message_2 =  \"                              wor\"\n",
    "message_3 =\"wbdaloqteldndyrcggzf\"\n",
    "\n",
    "print(message_1.lower())\n",
    "print(message_2.strip())\n",
    "print(message_3[9:11])\n",
    "print(message_1.lower() + \" \" + message_2.strip() + message_3[9:11])\n"
   ]
  },
  {
   "cell_type": "markdown",
   "metadata": {},
   "source": [
    "### Exercise 4\n",
    "\n",
    "Fix the following code so it prints properly"
   ]
  },
  {
   "cell_type": "code",
   "execution_count": 30,
   "metadata": {},
   "outputs": [
    {
     "name": "stdout",
     "output_type": "stream",
     "text": [
      "The price is $3.44.\n"
     ]
    }
   ],
   "source": [
    "# Dollar amounts should only have two digits after the decimal\n",
    "print(\"The price is $%.2f.\" % (3.44444))"
   ]
  },
  {
   "cell_type": "code",
   "execution_count": 44,
   "metadata": {},
   "outputs": [
    {
     "name": "stdout",
     "output_type": "stream",
     "text": [
      "enter your name: jessica\n",
      "enter the language you are learning: python\n",
      "jessica, is learning python\n"
     ]
    }
   ],
   "source": [
    "# Complete the code so it prints your name and what you're learning\n",
    "name = input(\"enter your name: \")\n",
    "language = input(\"enter the language you are learning: \")\n",
    "print(\"{}, is learning {}\".format(name, language))"
   ]
  },
  {
   "cell_type": "markdown",
   "metadata": {},
   "source": [
    "### Exercise 5\n",
    "\n",
    "Create your own mad-lib with at least 5 inputs."
   ]
  },
  {
   "cell_type": "code",
   "execution_count": null,
   "metadata": {},
   "outputs": [],
   "source": [
    "\"Once upon a time a man was riding a horse and on his way to ride that horse he stumbled amongst a{first_noun}, he was shocked to see this rare gem he couldn't believe what he was coming across so he {first_adjective} off the horse and the horse {second_adjective} he seemed to know someone around the area or something seed oddly familiar maybe it was {second_noun}. It seemed that Spongebob and {plural_Noun} were all together did he just enter the Chum Bucket? Was he deep deep in the sea\""
   ]
  },
  {
   "cell_type": "code",
   "execution_count": 50,
   "metadata": {},
   "outputs": [
    {
     "name": "stdout",
     "output_type": "stream",
     "text": [
      "Enter a noun: jessica\n",
      "Enter an adjective: jjw\n",
      "Enter a second adjective: nmw\n",
      "Enter a second noun: jdm\n",
      "Enter a plural Noun: mdmw\n",
      "Once upon a time a man was riding a horse and on his way to ride that horse he stumbled amongst jessica, he was shocked to see this rare gem he couldn't believe what he was coming across so he jjw off the horse and the horse nmw he seemed to know someone around the area or something seemed oddly familiar maybe it was jdm. It seemed that Spongebob and mdmw were all together did he just enter the Chum Bucket? Was he deep deep in the sea\n"
     ]
    }
   ],
   "source": [
    "first_noun = input(\"Enter a noun: \")\n",
    "first_adjective = input(\"Enter an adjective: \")\n",
    "second_adjective = input(\"Enter a second adjective: \")\n",
    "second_noun = input(\"Enter a second noun: \")\n",
    "plural_Noun = input(\"Enter a plural Noun: \")\n",
    "\n",
    "mad_lib = f\"Once upon a time a man was riding a horse and on his way to ride that horse he stumbled amongst {first_noun}, he was shocked to see this rare gem he couldn't believe what he was coming across so he {first_adjective} off the horse and the horse {second_adjective} he seemed to know someone around the area or something seemed oddly familiar maybe it was {second_noun}. It seemed that Spongebob and {plural_Noun} were all together did he just enter the Chum Bucket? Was he deep deep in the sea\"\n",
    "print (mad_lib)"
   ]
  },
  {
   "cell_type": "code",
   "execution_count": null,
   "metadata": {},
   "outputs": [],
   "source": []
  }
 ],
 "metadata": {
  "kernelspec": {
   "display_name": "Python 3",
   "language": "python",
   "name": "python3"
  },
  "language_info": {
   "codemirror_mode": {
    "name": "ipython",
    "version": 3
   },
   "file_extension": ".py",
   "mimetype": "text/x-python",
   "name": "python",
   "nbconvert_exporter": "python",
   "pygments_lexer": "ipython3",
   "version": "3.6.10"
  }
 },
 "nbformat": 4,
 "nbformat_minor": 4
}
