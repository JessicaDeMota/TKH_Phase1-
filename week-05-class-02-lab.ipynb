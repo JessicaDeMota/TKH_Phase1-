{
 "cells": [
  {
   "cell_type": "markdown",
   "metadata": {},
   "source": [
    "<div style=\"background: #000;\n",
    "            color: #FFF;\n",
    "            margin: 0px;\n",
    "                padding: 10px 0px 20px 0px;\n",
    "            text-align: center; \n",
    "                \">\n",
    "    <h1>Week 5 - Class 2 - Lab</h1>\n",
    "</div>"
   ]
  },
  {
   "cell_type": "markdown",
   "metadata": {},
   "source": [
    "# Question 1:\n",
    "\n",
    "What is the time complexity of the following code? Explain your answer.\n",
    "\n",
    "```python3\n",
    "def function_a(*args):\n",
    "    array = []\n",
    "    length = len(args)\n",
    "    \n",
    "    for i in range(0, length-1):\n",
    "        print(i)\n",
    "    \n",
    "    for i in range(0, length-1):\n",
    "        for j in range(0, length-1):\n",
    "            for k in range(0, length-1):\n",
    "                array.append([i, j, k])\n",
    "    \n",
    "    for val in array:\n",
    "        print(val)\n",
    "    \n",
    "    return array\n",
    "            \n",
    "\n",
    "\n",
    "```\n"
   ]
  },
  {
   "cell_type": "markdown",
   "metadata": {},
   "source": [
    "The time complexity of the following code, I believe is o(n^3). The reason I believe, it is o(n^3), is because when running the program it is ineffecient. When running the program, we are able to see that the first loop goes through element oof the given arguments and intakes it length and subtracts it by 1. It then prints how many indexes are within that list, then there is a second function that is in a nested loop that prompts the same thing when I ran it, this set back the index to 0 and printed it again, this is an example of binary search as it searches for elements that were already pre-existent. Then the function contunies to nest through each index of the array and searches each one and appends it to the array. When I placed this into python visualization with an argument of 8 arguments it went through 456 steps to go through each index, and ran by it 3 times, it then printed the valued based on how many times it ran through each index. Overall, what makes the function time complexity o(n^3) is the 3 for loops that are each calling each other multiple times. "
   ]
  },
  {
   "cell_type": "markdown",
   "metadata": {},
   "source": [
    "# Exercise 1:\n",
    "\n",
    "Create a function of your own choosing that uses `if`, `for` or `while`. What is the time complexity?"
   ]
  },
  {
   "cell_type": "code",
   "execution_count": 3,
   "metadata": {},
   "outputs": [
    {
     "name": "stdout",
     "output_type": "stream",
     "text": [
      "3\n",
      "The time complexity is logarathic time, as it takes a longer time to search through each element of the list\n",
      "90\n",
      "The time complexity is logarathic time, as it takes a longer time to search through each element of the list\n"
     ]
    }
   ],
   "source": [
    "data = [3,4,9,12,33,90,121]\n",
    "for index in range (0,len(data),5):\n",
    "    print (data[index])\n",
    "    print (\"The time complexity is logarathic time, as it takes a longer time to search through each element of the list\")"
   ]
  },
  {
   "cell_type": "markdown",
   "metadata": {},
   "source": [
    "# Exercise 2:\n",
    "\n",
    "Write a lambda function that checks whether or not a given string starts with a given character. \n",
    "\n",
    "Hint: Use a string method."
   ]
  },
  {
   "cell_type": "code",
   "execution_count": 5,
   "metadata": {
    "scrolled": true
   },
   "outputs": [
    {
     "name": "stdout",
     "output_type": "stream",
     "text": [
      "True\n"
     ]
    }
   ],
   "source": [
    "# we want to create a lambda function \n",
    "# checking whether o not a string starts with a specific characther. \n",
    "check_char = lambda x: True if x.startswith('A') else False \n",
    "print(check_char('Arrogance'))"
   ]
  },
  {
   "cell_type": "markdown",
   "metadata": {},
   "source": [
    "# Exercise 3:\n",
    "\n",
    "Create a function called `checker` that takes a tuple of three values, checks if there's a pair of numbers and returns the 3rd. If no doubles, return False. If there's a triple return the number and \"triple\" Use the code in the following cell to generate tuples.\n",
    "\n",
    "E.g. \n",
    "\n",
    "`checker(2,3,2)` would return 3    \n",
    "`checker(1,2,3)` would return False  \n",
    "`checker(3,3,3)` would return 3, \"triple\"  \n"
   ]
  },
  {
   "cell_type": "code",
   "execution_count": 8,
   "metadata": {
    "scrolled": true
   },
   "outputs": [
    {
     "data": {
      "text/plain": [
       "(5, 4, 5)"
      ]
     },
     "execution_count": 8,
     "metadata": {},
     "output_type": "execute_result"
    }
   ],
   "source": [
    "# we want our function to take a tuple of 3 values and checks for a pair\n",
    "# a pair can consists of 2 or 3 numbers that are the same \n",
    "# so in this case it will return (2,3,2) = it doesn't return false b/c \n",
    "# there is a pair and the highest number in this pair in this tuple is 3.\n",
    "# in this case if there's no pairs we return false. \n",
    "\n",
    "import random\n",
    "# so this function rolls a random set of numbers. \n",
    "def dice_roller():\n",
    "    return (random.randint(1,6), random.randint(1,6), random.randint(1,6))\n",
    "\n",
    "three_dice_rolls = dice_roller()\n",
    "\n",
    "three_dice_rolls"
   ]
  },
  {
   "cell_type": "code",
   "execution_count": 10,
   "metadata": {},
   "outputs": [
    {
     "data": {
      "text/plain": [
       "(5, 4, 5)"
      ]
     },
     "execution_count": 10,
     "metadata": {},
     "output_type": "execute_result"
    }
   ],
   "source": [
    "# this function we need to use to check for pairs.\n",
    "# so how can we check for pairs? \n",
    "# what makes a pair is if two numbers repeat twice. \n",
    "# can we call the functions by using the wrapper?\n",
    "\n",
    "def checker(three_tuple):\n",
    "        \n",
    "    return three_tuple\n",
    "\n",
    "checker(three_dice_rolls)"
   ]
  },
  {
   "cell_type": "markdown",
   "metadata": {},
   "source": [
    "# Bonus: \n",
    "\n",
    "Create your own naive (unsophisticated) sorting algorithm that takes a list of ints and sorts the elements. It doesn't not have to be efficient, it just needs to give the correct sorted list as output. No points for using any built in or library method that sorts."
   ]
  },
  {
   "cell_type": "code",
   "execution_count": null,
   "metadata": {},
   "outputs": [],
   "source": []
  }
 ],
 "metadata": {
  "kernelspec": {
   "display_name": "Python 3",
   "language": "python",
   "name": "python3"
  },
  "language_info": {
   "codemirror_mode": {
    "name": "ipython",
    "version": 3
   },
   "file_extension": ".py",
   "mimetype": "text/x-python",
   "name": "python",
   "nbconvert_exporter": "python",
   "pygments_lexer": "ipython3",
   "version": "3.6.10"
  }
 },
 "nbformat": 4,
 "nbformat_minor": 4
}
