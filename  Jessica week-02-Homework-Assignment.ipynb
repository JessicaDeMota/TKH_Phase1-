{
 "cells": [
  {
   "cell_type": "markdown",
   "metadata": {},
   "source": [
    "# Week 2 HW\n",
    "\n",
    "Exercise 1 is due Monday.  \n",
    "Exercise 2 is due Tuesday.  \n",
    "Exercise 3 is due Wednesday.  "
   ]
  },
  {
   "cell_type": "markdown",
   "metadata": {},
   "source": [
    "# Exercise #1\n",
    "\n",
    "### Given the following variable `money_moves`"
   ]
  },
  {
   "cell_type": "code",
   "execution_count": 2,
   "metadata": {},
   "outputs": [],
   "source": [
    "money_moves = [\"fur coats\",\"money fans\",\"Diamonds\",\"MoNeY FaNs\",\"FUR COATS\",\"barrels of gold\"]"
   ]
  },
  {
   "cell_type": "markdown",
   "metadata": {},
   "source": [
    "### a. Print the list of unique elements. Then output the length."
   ]
  },
  {
   "cell_type": "code",
   "execution_count": 3,
   "metadata": {
    "scrolled": true
   },
   "outputs": [
    {
     "name": "stdout",
     "output_type": "stream",
     "text": [
      "['fur coats', 'money fans', 'diamonds', 'money fans', 'fur coats', 'barrels of gold']\n",
      "['diamonds', 'money fans', 'fur coats', 'barrels of gold']\n",
      "4\n"
     ]
    }
   ],
   "source": [
    "# place code here\n",
    "money_moves_lower = []\n",
    "for i in money_moves :\n",
    "    money_moves_lower.append(i.lower())\n",
    "print (money_moves_lower)\n",
    "unique = list(set(money_moves_lower))\n",
    "print (unique)\n",
    "print (len(unique))\n"
   ]
  },
  {
   "cell_type": "markdown",
   "metadata": {},
   "source": [
    "### b. Set the 4th and 5th elements of the original list in lowercase. Pop that value and append it to the end of the list. Print the list."
   ]
  },
  {
   "cell_type": "code",
   "execution_count": 3,
   "metadata": {},
   "outputs": [
    {
     "name": "stdout",
     "output_type": "stream",
     "text": [
      "['fur coats', 'money fans', 'Diamonds', 'barrels of gold', 'money fans', 'fur coats']\n"
     ]
    }
   ],
   "source": [
    "money_moves.append(money_moves.pop(3).lower())\n",
    "money_moves.append(money_moves.pop(3).lower())\n",
    "print (money_moves)"
   ]
  },
  {
   "cell_type": "markdown",
   "metadata": {},
   "source": [
    "### d. Create a new list, append odd number items from the original list`money_moves` and output the new list"
   ]
  },
  {
   "cell_type": "code",
   "execution_count": 43,
   "metadata": {},
   "outputs": [
    {
     "name": "stdout",
     "output_type": "stream",
     "text": [
      "[[1, 3, 5], 'money fans', 'MoNeY FaNs', 'barrels of gold']\n"
     ]
    }
   ],
   "source": [
    "money_moves = [\"fur coats\",\"money fans\",\"Diamonds\",\"MoNeY FaNs\",\"FUR COATS\",\"barrels of gold\"]\n",
    "#create a new list \n",
    "new_list = []\n",
    "# print the len of the list in order to identify the odd numbers \n",
    "#[i for i in range (len(money_moves)) if i% 2 == 1]\n",
    "new_list.append([i for i in range (len(money_moves)) if i% 2 == 1])\n",
    "# based on this function we are able to determine\n",
    "# the odd number items from the lists are our 1,3,5th index \n",
    "# therefore we can append these into the new list \n",
    "new_list.append(money_moves[1])\n",
    "new_list.append(money_moves[3])\n",
    "new_list.append(money_moves[5])\n",
    "print(new_list)"
   ]
  },
  {
   "cell_type": "markdown",
   "metadata": {},
   "source": [
    "### e. Create a new dict. Add each item of `money_moves` to the dict using it's place in the list as the key for the dict. Print the dict."
   ]
  },
  {
   "cell_type": "code",
   "execution_count": 35,
   "metadata": {},
   "outputs": [
    {
     "name": "stdout",
     "output_type": "stream",
     "text": [
      "{0: 'fur coats', 1: 'money fans', 2: 'Diamonds', 3: 'MoNeY FaNs', 4: 'FUR COATS', 5: 'barrels of gold'}\n"
     ]
    }
   ],
   "source": [
    "money_moves = [\"fur coats\",\"money fans\",\"Diamonds\",\"MoNeY FaNs\",\"FUR COATS\",\"barrels of gold\"]\n",
    "# create a new dictionary \n",
    "new_dict = {}\n",
    "# attach each item of the string with a key and a value.\n",
    "# this will allow us to \n",
    "new_dict[0] = money_moves[0]\n",
    "new_dict[1] = money_moves[1]\n",
    "new_dict[2] = money_moves[2]\n",
    "new_dict[3] = money_moves[3]\n",
    "new_dict[4] = money_moves[4]\n",
    "new_dict[5] = money_moves[5]\n",
    "print (new_dict)"
   ]
  },
  {
   "cell_type": "code",
   "execution_count": null,
   "metadata": {},
   "outputs": [],
   "source": []
  },
  {
   "cell_type": "code",
   "execution_count": null,
   "metadata": {},
   "outputs": [],
   "source": []
  },
  {
   "cell_type": "markdown",
   "metadata": {},
   "source": [
    "# Exercise 2\n",
    "\n",
    "### Given the string below:  "
   ]
  },
  {
   "cell_type": "code",
   "execution_count": 6,
   "metadata": {},
   "outputs": [],
   "source": [
    "original_string = \"Supercalifragilisticexpialadocious\""
   ]
  },
  {
   "cell_type": "markdown",
   "metadata": {},
   "source": [
    "### a. Extract the 3rd and 4th element separately. Return the two values in a tuple"
   ]
  },
  {
   "cell_type": "code",
   "execution_count": 85,
   "metadata": {},
   "outputs": [
    {
     "data": {
      "text/plain": [
       "('e', 'r')"
      ]
     },
     "execution_count": 85,
     "metadata": {},
     "output_type": "execute_result"
    }
   ],
   "source": [
    "# extract the 3rd and 4th element separetely \n",
    "original_string = \"Supercalifragilisticexpialadocious\"\n",
    "third_element = original_string[3]\n",
    "original_string = \"Supercalifragilisticexpialadocious\"\n",
    "fourth_element = original_string[4]\n",
    "l = (third_element,fourth_element)\n",
    "l\n",
    "# return the two values in a tuple ; we must convert the string into a tuple "
   ]
  },
  {
   "cell_type": "markdown",
   "metadata": {},
   "source": [
    "### b. Extract the 3rd through 5th element, inclusive.   "
   ]
  },
  {
   "cell_type": "code",
   "execution_count": 11,
   "metadata": {},
   "outputs": [
    {
     "data": {
      "text/plain": [
       "'er'"
      ]
     },
     "execution_count": 11,
     "metadata": {},
     "output_type": "execute_result"
    }
   ],
   "source": [
    "# an index that means that this number will be included within the selection \n",
    "original_string[3:5]"
   ]
  },
  {
   "cell_type": "markdown",
   "metadata": {},
   "source": [
    "### c. Extract the 3rd (inclusive) through 5th (exclusive) element.  "
   ]
  },
  {
   "cell_type": "code",
   "execution_count": 27,
   "metadata": {},
   "outputs": [
    {
     "data": {
      "text/plain": [
       "'er'"
      ]
     },
     "execution_count": 27,
     "metadata": {},
     "output_type": "execute_result"
    }
   ],
   "source": [
    "# this mean that 3 is included but the 5th element is not included \n",
    "original_string[3:5:1]"
   ]
  },
  {
   "cell_type": "markdown",
   "metadata": {},
   "source": [
    "### d. What is the index of \"S\"? How many elements in the list are \"S\"? Output the results as a tuple"
   ]
  },
  {
   "cell_type": "code",
   "execution_count": 87,
   "metadata": {},
   "outputs": [
    {
     "name": "stdout",
     "output_type": "stream",
     "text": [
      "0\n"
     ]
    },
    {
     "data": {
      "text/plain": [
       "(0, 1)"
      ]
     },
     "execution_count": 87,
     "metadata": {},
     "output_type": "execute_result"
    }
   ],
   "source": [
    "#we find the index of \"S\" by using .index \n",
    "index = original_string.find('S')\n",
    "print(index)\n",
    "#index = original_string[0]\n",
    "# we can use the count variable to see how many times it shows up\n",
    "counting = original_string.count('S')\n",
    "l = (index,counting)\n",
    "l"
   ]
  },
  {
   "cell_type": "markdown",
   "metadata": {},
   "source": [
    "### e. What are the last 3 elements of the string?  "
   ]
  },
  {
   "cell_type": "code",
   "execution_count": 21,
   "metadata": {},
   "outputs": [
    {
     "data": {
      "text/plain": [
       "'ous'"
      ]
     },
     "execution_count": 21,
     "metadata": {},
     "output_type": "execute_result"
    }
   ],
   "source": [
    "# last 3 elements of the string \n",
    "original_string[-3:]"
   ]
  },
  {
   "cell_type": "markdown",
   "metadata": {},
   "source": [
    "### f. Output the string backwards"
   ]
  },
  {
   "cell_type": "code",
   "execution_count": 22,
   "metadata": {},
   "outputs": [
    {
     "data": {
      "text/plain": [
       "'suoicodalaipxecitsiligarfilacrepuS'"
      ]
     },
     "execution_count": 22,
     "metadata": {},
     "output_type": "execute_result"
    }
   ],
   "source": [
    "original_string[::-1]"
   ]
  },
  {
   "cell_type": "markdown",
   "metadata": {},
   "source": [
    "# Exercise 3\n",
    "\n",
    "### Given the following code, fix it so the code outputs `\"hello\"`:\n",
    "\n",
    "Hint: for each, you just have to edit one line of code\n",
    "\n",
    "(Don't worry, you aren't meant to understand everything going on in them yet)"
   ]
  },
  {
   "cell_type": "code",
   "execution_count": 90,
   "metadata": {},
   "outputs": [
    {
     "name": "stdout",
     "output_type": "stream",
     "text": [
      "hello\n"
     ]
    }
   ],
   "source": [
    "def function(x):\n",
    "    if type(True) == bool:\n",
    "        print(x)\n",
    "\n",
    "function(\"hello\")"
   ]
  },
  {
   "cell_type": "code",
   "execution_count": 91,
   "metadata": {},
   "outputs": [
    {
     "data": {
      "text/plain": [
       "'hello'"
      ]
     },
     "execution_count": 91,
     "metadata": {},
     "output_type": "execute_result"
    }
   ],
   "source": [
    "s = [\"h\", \"e\", \"l\", \"l\", \"o\"]\n",
    "''.join(s)"
   ]
  },
  {
   "cell_type": "code",
   "execution_count": 89,
   "metadata": {},
   "outputs": [
    {
     "data": {
      "text/plain": [
       "'hello'"
      ]
     },
     "execution_count": 89,
     "metadata": {},
     "output_type": "execute_result"
    }
   ],
   "source": [
    "a = True\n",
    "b = False\n",
    "c = True\n",
    "d = False\n",
    "\"hello\" if ((a or (b and b) == (d and d or b) else \"\"\n",
    "# in this case all we have to edit is to make the statement true \n",
    "# a or b = True or False = True \n",
    "# False and False = False \n",
    "# False and False = False \n",
    "# True  or False = True"
   ]
  },
  {
   "cell_type": "code",
   "execution_count": 111,
   "metadata": {},
   "outputs": [
    {
     "name": "stdout",
     "output_type": "stream",
     "text": [
      "hello\n",
      "\n"
     ]
    }
   ],
   "source": [
    "class Example:\n",
    "    def __init__(self, val):\n",
    "        self.a = val and print(\"hello\")\n",
    "    def say_hi(self):\n",
    "        print(\"hello\") if self.a == \"fixed\" else print(\"\")\n",
    "    def hello(self):\n",
    "        return \"olleh\".reverse()\n",
    "        \n",
    "e = Example(\"hello\")\n",
    "e.say_hi()\n"
   ]
  },
  {
   "cell_type": "code",
   "execution_count": null,
   "metadata": {},
   "outputs": [],
   "source": []
  }
 ],
 "metadata": {
  "kernelspec": {
   "display_name": "Python 3",
   "language": "python",
   "name": "python3"
  },
  "language_info": {
   "codemirror_mode": {
    "name": "ipython",
    "version": 3
   },
   "file_extension": ".py",
   "mimetype": "text/x-python",
   "name": "python",
   "nbconvert_exporter": "python",
   "pygments_lexer": "ipython3",
   "version": "3.6.10"
  }
 },
 "nbformat": 4,
 "nbformat_minor": 4
}
