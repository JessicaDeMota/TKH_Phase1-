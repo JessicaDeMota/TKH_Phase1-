{
 "cells": [
  {
   "cell_type": "markdown",
   "metadata": {},
   "source": [
    "<div style=\"background: #000;\n",
    "            color: #FFF;\n",
    "            margin: 0px;\n",
    "                padding: 10px 0px 20px 0px;\n",
    "            text-align: center; \n",
    "                \">\n",
    "    <h1>Week 4 - Class 3 - Lab</h1>\n",
    "</div>\n"
   ]
  },
  {
   "cell_type": "markdown",
   "metadata": {},
   "source": [
    "# Question 1:\n",
    "\n",
    "What are the improvements of Dynamic Programming over recursion? How could we improve the factorial function we had to create for yesterday's lab? \n",
    "\n",
    "(Pseudocode is fine, no need to rewrite the function in python)"
   ]
  },
  {
   "cell_type": "markdown",
   "metadata": {},
   "source": [
    "There are many improvements of dynamic programming, over recursion. In recursion we must make several calls to multiple parameters in order to solve one algorithim. We can improve the factorial function that we had in yesterday's lab by saying :\n",
    "def factorial(num):\n",
    " if num == 0:\n",
    "  return True \n",
    " else \n",
    " return num * factorial(n-1)\n",
    " n = input of the user\n",
    " factorial(num)"
   ]
  },
  {
   "cell_type": "markdown",
   "metadata": {},
   "source": []
  },
  {
   "cell_type": "markdown",
   "metadata": {},
   "source": [
    "# Exercise 2:\n",
    "\n",
    "Write a function that executes in constant time."
   ]
  },
  {
   "cell_type": "code",
   "execution_count": 31,
   "metadata": {},
   "outputs": [
    {
     "name": "stdout",
     "output_type": "stream",
     "text": [
      "11\n"
     ]
    }
   ],
   "source": [
    "# a function that excutes in constant time, means that you can return \n",
    "# the first element \n",
    "def get_first(data):\n",
    "    return data[0]\n",
    "data = [11,7,97,32,3]\n",
    "print(get_first(data))"
   ]
  },
  {
   "cell_type": "markdown",
   "metadata": {},
   "source": [
    "# Exercise 3:\n",
    "\n",
    "Write a function that executes in linear time."
   ]
  },
  {
   "cell_type": "code",
   "execution_count": 32,
   "metadata": {},
   "outputs": [
    {
     "name": "stdout",
     "output_type": "stream",
     "text": [
      "8\n",
      "3\n",
      "4\n"
     ]
    }
   ],
   "source": [
    "#linear time means that it runs relative to it's input, so in this case, \n",
    "# we use 3 integers that we inputed so it is excuting linear time with 3 inputs \n",
    "# linear time changes with the amount of inputs. \n",
    "def function_b(list_of_ints):\n",
    "    for i in list_of_ints:\n",
    "        print(i)\n",
    "function_b([8,3,4])"
   ]
  },
  {
   "cell_type": "markdown",
   "metadata": {},
   "source": [
    "# Exercise 4:\n",
    "\n",
    "Rewrite this code so that it is more efficient."
   ]
  },
  {
   "cell_type": "code",
   "execution_count": 33,
   "metadata": {},
   "outputs": [
    {
     "ename": "SyntaxError",
     "evalue": "invalid syntax (<ipython-input-33-8140a3fd0f1f>, line 1)",
     "output_type": "error",
     "traceback": [
      "\u001b[0;36m  File \u001b[0;32m\"<ipython-input-33-8140a3fd0f1f>\"\u001b[0;36m, line \u001b[0;32m1\u001b[0m\n\u001b[0;31m    lst = [i for i range(100)]\u001b[0m\n\u001b[0m                       ^\u001b[0m\n\u001b[0;31mSyntaxError\u001b[0m\u001b[0;31m:\u001b[0m invalid syntax\n"
     ]
    }
   ],
   "source": [
    "lst = [i for i range(100)]\n",
    "# we have a list that says for i in i range 100, so we know \n",
    "# we are sorting through 1-100\n",
    "\n",
    "# function says if divisible by 6 \n",
    "# take in the list \n",
    "#take in the list, and place into an empty array \n",
    "# for i in the list \n",
    "# if the element of the list is %2 then \n",
    "# appennd to i \n",
    "# a new list is created saying that for the numbers in the previous list \n",
    "# if they are divisible by 2 and then append to the finial list \n",
    "# all the numbers printed are divsible by 6\n",
    "def divisible_by_6:\n",
    "    for i in range(100):\n",
    "        if i % 2 == 0 and i % 3 == 0:\n",
    "            new_list.append(i)\n",
    "        return new_list \n",
    "    #final_list = []\n",
    "    #for j in new_list:\n",
    "        #if j % 3 == 0:\n",
    "            #final_list.append(j)\n",
    "    #return final_list\n",
    "\n",
    "divisible_by_6(lst)\n",
    "\n",
    "            "
   ]
  },
  {
   "cell_type": "code",
   "execution_count": 34,
   "metadata": {},
   "outputs": [
    {
     "data": {
      "text/plain": [
       "[0, 6, 12, 18, 24, 30, 36, 42, 48, 54, 60, 66, 72, 78, 84, 90, 96]"
      ]
     },
     "execution_count": 34,
     "metadata": {},
     "output_type": "execute_result"
    }
   ],
   "source": [
    "# one way we can make this list easier is by going to %6 directly \n",
    "# rather than nesting. \n",
    "lst = [i for i in range(100)]\n",
    "# we have a list that says for i in i range 100, so we know \n",
    "# we are sorting through 1-100\n",
    "\n",
    "# function says if divisible by 6 \n",
    "# take in the list \n",
    "#take in the list, and place into an empty array \n",
    "# for i in the list \n",
    "# if the element of the list is %2 then \n",
    "# appennd to i \n",
    "# a new list is created saying that for the numbers in the previous list \n",
    "# if they are divisible by 2 and then append to the finial list \n",
    "# all the numbers printed are divsible by 6\n",
    "def divisible_by_6(lst):\n",
    "    new_list = []\n",
    "    for i in lst:\n",
    "        if i % 2 == 0:\n",
    "            new_list.append(i)\n",
    "    final_list = []\n",
    "    for j in new_list:\n",
    "        if j % 3 == 0:\n",
    "            final_list.append(j)\n",
    "    return final_list\n",
    "\n",
    "divisible_by_6(lst)\n"
   ]
  },
  {
   "cell_type": "code",
   "execution_count": 38,
   "metadata": {},
   "outputs": [
    {
     "name": "stdout",
     "output_type": "stream",
     "text": [
      "[0, 6, 12, 18, 24, 30, 36, 42, 48, 54, 60, 66, 72, 78, 84, 90, 96]\n"
     ]
    }
   ],
   "source": [
    "def f():\n",
    "    return[x for x in range(100) if x % 6 == 0]\n",
    "print(f())"
   ]
  },
  {
   "cell_type": "code",
   "execution_count": null,
   "metadata": {},
   "outputs": [],
   "source": []
  }
 ],
 "metadata": {
  "kernelspec": {
   "display_name": "Python 3",
   "language": "python",
   "name": "python3"
  },
  "language_info": {
   "codemirror_mode": {
    "name": "ipython",
    "version": 3
   },
   "file_extension": ".py",
   "mimetype": "text/x-python",
   "name": "python",
   "nbconvert_exporter": "python",
   "pygments_lexer": "ipython3",
   "version": "3.6.10"
  }
 },
 "nbformat": 4,
 "nbformat_minor": 4
}
